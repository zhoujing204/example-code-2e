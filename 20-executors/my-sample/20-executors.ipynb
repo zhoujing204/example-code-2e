{
 "cells": [
  {
   "cell_type": "markdown",
   "metadata": {},
   "source": [
    "# Chapter 20: Concurrent Executors"
   ]
  },
  {
   "cell_type": "markdown",
   "metadata": {},
   "source": [
    "## A Sequential Download Script"
   ]
  },
  {
   "cell_type": "code",
   "execution_count": null,
   "metadata": {},
   "outputs": [],
   "source": [
    "import time\n",
    "from pathlib import Path\n",
    "from typing import Callable\n",
    "\n",
    "import httpx  # <1>\n",
    "\n",
    "POP20_CC = ('CN IN US ID BR PK NG BD RU JP '\n",
    "            'MX PH VN ET EG DE IR TR CD FR').split()  # <2>\n",
    "\n",
    "BASE_URL = 'https://www.fluentpython.com/data/flags'  # <3>\n",
    "DEST_DIR = Path('downloaded')                         # <4>\n",
    "\n",
    "def save_flag(img: bytes, filename: str) -> None:     # <5>\n",
    "    (DEST_DIR / filename).write_bytes(img)\n",
    "\n",
    "def get_flag(cc: str) -> bytes:  # <6>\n",
    "    url = f'{BASE_URL}/{cc}/{cc}.gif'.lower()\n",
    "    resp = httpx.get(url, timeout=6.1,       # <7>\n",
    "                    follow_redirects=True)   # <8>\n",
    "    resp.raise_for_status()  # <9>\n",
    "    return resp.content\n",
    "\n",
    "def download_many(cc_list: list[str]) -> int:  # <10>\n",
    "    for cc in sorted(cc_list):                 # <11>\n",
    "        image = get_flag(cc)\n",
    "        save_flag(image, f'{cc}.gif')\n",
    "        print(cc, end=' ', flush=True)         # <12>\n",
    "    return len(cc_list)\n",
    "\n",
    "def main(downloader: Callable[[list[str]], int]) -> None:  # <13>\n",
    "    DEST_DIR.mkdir(exist_ok=True)                          # <14>\n",
    "    t0 = time.perf_counter()                               # <15>\n",
    "    count = downloader(POP20_CC)\n",
    "    elapsed = time.perf_counter() - t0\n",
    "    print(f'\\n{count} downloads in {elapsed:.2f}s')\n",
    "\n",
    "if __name__ == '__main__':\n",
    "    main(download_many)     # <16>"
   ]
  },
  {
   "cell_type": "markdown",
   "metadata": {},
   "source": [
    "1. Import the `httpx` library. It's not part of the standard library, so by convention the import goes after the standard library imports and a blank line.\n",
    "\n",
    "2. List of the ISO 3166 country codes for the most populous countries in order of descending population. The list is from [Wikipedia](https://en.wikipedia.org/wiki/List_of_countries_and_dependencies_by_population).\n",
    "\n",
    "3. The directory with the flag images. \n",
    "\n",
    "4. Local directory where the images are saved. \n",
    "\n",
    "5. Save the `img` bytes to `filename` in the `DEST_DIR` directory.\n",
    "\n",
    "6. Given a country code, build the URL and download the image, returning the binary contents of the response.\n",
    "\n",
    "7. It's good practice to add a sensible timeout to network operations, to avoid blocking for several minutes for no good reason.\n",
    "\n",
    "8. By default, HTTPX does not follow redirects.\n",
    "\n",
    "9. There's no error handling in this script, but this method raises an exception if the HTTP status is not in the 2XX range--highly recommended to avoid silent failures.\n",
    "\n",
    "10. `download_many` is the key function to compare with the concurrent implementations.\n",
    "\n",
    "11. Loop over the list of country codes in alphabetical order, to make it easy to see that the ordering is preserved in the output; return the number of country codes downloaded.\n",
    "\n",
    "12. Display one country code at a time in the same line so we can see progress as each download happens. The end=' ' argument replaces the usual line break at the end of each line with a space, so the next print call will continue on the same line. The `flush=True` argument is needed to ensure that the output is displayed immediately, by default, Python is line buffered, meaning that Python only displays printed characters when it sees a line break or when the buffer is full.\n",
    "\n",
    "13. `main` must be called with the function that will make the downloads; that way, we can use `main` as library function with other implementations of `download_many` in the future.\n",
    "\n",
    "14. Create `DEST_DIR` if it doesn't exist, don't raise an exception if it already exists.\n",
    "\n",
    "15. Record and report the elapsed time after running the `downloader` function.\n",
    "\n",
    "16. Call `main` with `download_many` to test the script."
   ]
  },
  {
   "cell_type": "markdown",
   "metadata": {},
   "source": [
    "## Downloading with concurrent.futures"
   ]
  },
  {
   "cell_type": "code",
   "execution_count": null,
   "metadata": {},
   "outputs": [],
   "source": [
    "# flags_threadpool.py: threaded download script using futures.ThreadPoolExecutor\n",
    "\n",
    "from concurrent import futures\n",
    "\n",
    "def download_one(cc: str):#2\n",
    "    image = get_flag(cc)\n",
    "    save_flag(image, f'{cc}.gif')\n",
    "    print(cc, end=' ', flush=True)\n",
    "    return cc\n",
    "\n",
    "def download_many(cc_list: list[str]) -> int:\n",
    "    with futures.ThreadPoolExecutor() as executor: #3\n",
    "        res = executor.map(download_one, sorted(cc_list)) #4\n",
    "    return len(list(res)) #5\n",
    "\n",
    "if __name__ == '__main__':\n",
    "    main(download_many)\n"
   ]
  },
  {
   "cell_type": "markdown",
   "metadata": {},
   "source": [
    "1. Reuse some functions from the `flags` module. (No need in jupyter notebook)\n",
    "\n",
    "2. Function to download a single image, this is what each worker will execute.\n",
    "\n",
    "3. Instantiate a `ThreadPoolExecutor` as a context manager; the `executor.__exit__` method will call `executor.shutdown(wait=True)`, which will block until all threads are done.\n",
    "\n",
    "4. The `map` method is similar to the `map` built-in, except the `download_one` function will be called concurrently from multiple threads; it returns a generator that you can iterate to retrieve the value returned by each function call--in this case, each call to `download_one` will return a country code.\n",
    "\n",
    "5. Return the number of results obtained. If any of the threaded calls raises an exception, that exception is raised here when the implicit `next()` call inside the `list` constructor tries to retrieve the corresponding value from the generator.\n",
    "\n",
    "6. Call the main function from the `flags` module, passing the concurrent version of `download_many`."
   ]
  },
  {
   "cell_type": "markdown",
   "metadata": {},
   "source": [
    "The first and most important argument of the `ThreadPoolExecutor` is `max_workers`, setting the maximum number of worker threads to executed. When `max_workers` is `None` or not given, its value using the following expression--since Python 3.8:\n",
    "\n",
    "```python\n",
    "max_workers = min(32, os.cpu_count() + 4)\n",
    "```\n",
    "\n",
    "> This default value preserves at least 5 threads for I/O bound tasks. It utilizes at most 32 CPU cores for CPU bound tasks which release the GIL. It avoids using very large resources implicitly on many-core machines.\n"
   ]
  },
  {
   "cell_type": "markdown",
   "metadata": {},
   "source": [
    "## Where Are the Futures?"
   ]
  },
  {
   "cell_type": "markdown",
   "metadata": {},
   "source": [
    "Futures are core components of `concurrent.futures` and of `asyncio`. Since Python 3.4, there are `concurrent.futures.Future` and `asyncio.Future`. They server the same purpose: to represent a deferred computation that may or may not have completed yet. The difference is that `concurrent.futures.Future` is designed to be used with `concurrent.futures.Executor` objects, while `asyncio.Future` is intended for use with `asyncio` event loops.\n",
    "\n",
    "You should not create them: they are meant to be instantiated exclusively by the concurrency framework. Here is why: a `Future` represents something that will eventually run, therefore it must be scheduled to run, and that's the job of the framework. For example, the `Executor.submit()` method takes a callable, schedules it to run, and returns a `Future`."
   ]
  },
  {
   "cell_type": "markdown",
   "metadata": {},
   "source": [
    "Futures and threads serve different purposes, even though they both involve representing deferred computations.\n",
    "\n",
    "1. Conceptual Difference:\n",
    "   - Futures: Futures are high-level abstractions that represent the result of an asynchronous operation or a task that may not have completed yet. They allow you to work with the result of an asynchronous computation when it becomes available.\n",
    "   - Threads: Threads, on the other hand, are lower-level constructs that represent a separate flow of execution within a process. They enable concurrent execution of multiple tasks or operations.\n",
    "\n",
    "2. Concurrency vs. Asynchrony:\n",
    "   - Futures: Futures are primarily used for asynchronous programming, where you can initiate multiple tasks concurrently and continue with other operations while waiting for the results. Futures provide a way to synchronize and retrieve the results of these asynchronous tasks.\n",
    "   - Threads: Threads, on the other hand, enable concurrent execution by allowing multiple threads of execution to run simultaneously. They are typically used for parallelism or when you have computationally intensive tasks that can benefit from running concurrently on multiple CPU cores.\n",
    "\n",
    "3. Resource Consumption:\n",
    "   - Futures: Working with futures generally involves less resource consumption compared to threads. Futures are typically lightweight and can be managed more efficiently, making them suitable for handling a large number of concurrent tasks without consuming excessive system resources.\n",
    "   - Threads: Threads, being lower-level constructs, tend to consume more system resources, such as memory and CPU time. Creating and managing threads can have overhead, and having too many threads can lead to decreased performance or even resource exhaustion.\n",
    "\n",
    "In summary, futures and threads have different purposes and use cases. Futures are designed for managing asynchronous computations and retrieving results, while threads enable concurrent execution of multiple tasks. Understanding these differences can help you choose the appropriate approach based on your specific requirements and constraints."
   ]
  },
  {
   "cell_type": "code",
   "execution_count": 9,
   "metadata": {},
   "outputs": [
    {
     "name": "stdout",
     "output_type": "stream",
     "text": [
      "Scheduled for BR: <Future at 0x1ff9009bc80 state=running>\n",
      "Scheduled for CN: <Future at 0x1ff9009ad50 state=running>\n",
      "Scheduled for ID: <Future at 0x1ff9118e3f0 state=running>\n",
      "Scheduled for IN: <Future at 0x1ff91216630 state=pending>\n",
      "Scheduled for US: <Future at 0x1ff91215a30 state=pending>\n",
      "ID ThreadPoolExecutor-6_2 <Future at 0x1ff9118e3f0 state=finished returned str> result: 'ID'\n",
      "CN ThreadPoolExecutor-6_1 <Future at 0x1ff9009ad50 state=finished returned str> result: 'CN'\n",
      "BR ThreadPoolExecutor-6_0 <Future at 0x1ff9009bc80 state=finished returned str> result: 'BR'\n",
      "IN ThreadPoolExecutor-6_2 <Future at 0x1ff91216630 state=finished returned str> result: 'IN'\n",
      "US ThreadPoolExecutor-6_1 <Future at 0x1ff91215a30 state=finished returned str> result: 'US'\n",
      "\n",
      "5 downloads in 7.69s\n"
     ]
    }
   ],
   "source": [
    "# flags_threadpool_futures.py: replacing `executor.map` with `executor.submit` \n",
    "# and `futures.as_completed` in the `download_many` function\n",
    "\n",
    "def download_many(cc_list: list[str]) -> int:\n",
    "    cc_list = cc_list[:5] #1\n",
    "    with futures.ThreadPoolExecutor(max_workers=3) as executor: #2\n",
    "        to_do: list[futures.Future] = []\n",
    "        for cc in sorted(cc_list): #3\n",
    "            future = executor.submit(download_one, cc) #4\n",
    "            to_do.append(future) #5\n",
    "            print(f'Scheduled for {cc}: {future}') #6            \n",
    "\n",
    "        for count, future in enumerate(futures.as_completed(to_do), 1): #7\n",
    "            res: str = future.result() #8\n",
    "            print(f'{future} result: {res!r}') #9\n",
    "    \n",
    "    return count\n",
    "\n",
    "if __name__ == '__main__':\n",
    "    main(download_many)"
   ]
  },
  {
   "cell_type": "markdown",
   "metadata": {},
   "source": [
    "1. For this demonstration, use only the top five most populous countries.\n",
    "\n",
    "2. Set `max_workers` to 3, so we can see pending futures in the output.\n",
    "\n",
    "3. Iterate over country codes alphabetically, to make it clear that results will arrive out of order. And the output will be possible different every time you run the script.\n",
    "\n",
    "4. `executor.submit` schedules the callable to be executed, and returns a `future` representing this pending operation.\n",
    "\n",
    "5. Store each `future` so we can later retrieve them `as_completed`.\n",
    "\n",
    "6. Display a message with the country code and the respective `future` object.\n",
    "\n",
    "7. `as_completed` yields futures as they are completed.\n",
    "\n",
    "8. Get the result of this future.\n",
    "\n",
    "9. Display the future and this result."
   ]
  },
  {
   "cell_type": "markdown",
   "metadata": {},
   "source": [
    "```python\n",
    "Scheduled for BR: <Future at 0x25fc79380e0 state=running> #1\n",
    "Scheduled for CN: <Future at 0x25fc86f8470 state=running>\n",
    "Scheduled for ID: <Future at 0x25fc76f6c60 state=running>\n",
    "Scheduled for IN: <Future at 0x25fc7958410 state=pending> #2\n",
    "Scheduled for US: <Future at 0x25fc7958fe0 state=pending>\n",
    "CN <Future at 0x25fc86f8470 state=finished returned str> result: 'CN' #3\n",
    "ID BR <Future at 0x25fc76f6c60 state=finished returned str> result: 'ID' #4\n",
    "<Future at 0x25fc79380e0 state=finished returned str> result: 'BR'\n",
    "IN <Future at 0x25fc7958410 state=finished returned str> result: 'IN'\n",
    "US <Future at 0x25fc7958fe0 state=finished returned str> result: 'US'\n",
    "```\n",
    "\n",
    "1. The futures are scheduled in alphabetical order; the repr() of a future shows its\n",
    "state: the first three are running , because there are three worker threads.\n",
    "\n",
    "2. The last two futures are pending , waiting for worker threads.\n",
    "\n",
    "3. The first CN here is the output of download_one in a worker thread; the rest of the\n",
    "line is the output of download_many \n",
    "\n",
    "4. Here, two threads output codes before download_many in the main thread can\n",
    "display the result of the first thread.\n",
    "\n",
    "How can I print thread info here?"
   ]
  },
  {
   "cell_type": "code",
   "execution_count": 10,
   "metadata": {},
   "outputs": [
    {
     "name": "stdout",
     "output_type": "stream",
     "text": [
      "ID ThreadPoolExecutor-7_2 <Future at 0x1ff912a0860 state=finished returned str> result: 'ID'\n",
      "CN ThreadPoolExecutor-7_1 <Future at 0x1ff9009a930 state=finished returned str> result: 'CN'\n",
      "BR ThreadPoolExecutor-7_0 <Future at 0x1ff9118b950 state=finished returned str> result: 'BR'\n",
      "IN ThreadPoolExecutor-7_2 <Future at 0x1ff912a2e40 state=finished returned str> result: 'IN'\n",
      "US ThreadPoolExecutor-7_1 <Future at 0x1ff912a2ea0 state=finished returned str> result: 'US'\n",
      "\n",
      "5 downloads in 4.51s\n"
     ]
    }
   ],
   "source": [
    "import threading\n",
    "\n",
    "def download_one(cc: str):\n",
    "    image = get_flag(cc)\n",
    "    save_flag(image, f'{cc}.gif')\n",
    "    print(cc, end=' ', flush=True)\n",
    "    print(threading.current_thread().name, end=' ', flush=True)\n",
    "    return cc\n",
    "\n",
    "def download_many(cc_list: list[str]) -> int:\n",
    "    cc_list = cc_list[:5]\n",
    "    with futures.ThreadPoolExecutor(max_workers=3) as executor:\n",
    "        to_do: list[futures.Future] = []\n",
    "        for cc in sorted(cc_list):\n",
    "            future = executor.submit(download_one, cc)\n",
    "            to_do.append(future)\n",
    "            print(f'Scheduled for {cc}: {future}')            \n",
    "        \n",
    "        count = 0\n",
    "        for count, future in enumerate(futures.as_completed(to_do), 1):  # Access thread name from tuple\n",
    "            res: str = future.result()\n",
    "            print(f'{future} result: {res!r}')\n",
    "    \n",
    "    return count\n",
    "\n",
    "if __name__ == '__main__':\n",
    "    main(download_many)"
   ]
  }
 ],
 "metadata": {
  "kernelspec": {
   "display_name": "Python 3",
   "language": "python",
   "name": "python3"
  },
  "language_info": {
   "codemirror_mode": {
    "name": "ipython",
    "version": 3
   },
   "file_extension": ".py",
   "mimetype": "text/x-python",
   "name": "python",
   "nbconvert_exporter": "python",
   "pygments_lexer": "ipython3",
   "version": "3.12.0"
  }
 },
 "nbformat": 4,
 "nbformat_minor": 2
}
