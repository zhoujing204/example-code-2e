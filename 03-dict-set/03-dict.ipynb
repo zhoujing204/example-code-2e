{
 "cells": [
  {
   "cell_type": "markdown",
   "metadata": {},
   "source": [
    "`defaultdict` is a useful tool in Python's collections module that provides a default value for keys that are not present in the dictionary. Here are some examples of how to use `defaultdict`:\n",
    "\n",
    "Example 1: Counting occurrences of elements in a list"
   ]
  },
  {
   "cell_type": "code",
   "execution_count": 2,
   "metadata": {},
   "outputs": [
    {
     "name": "stdout",
     "output_type": "stream",
     "text": [
      "defaultdict(<class 'int'>, {1: 4, 2: 3, 3: 2, 4: 1})\n"
     ]
    }
   ],
   "source": [
    "from collections import defaultdict\n",
    "\n",
    "my_list = [1, 2, 3, 4, 1, 2, 3, 1, 2, 1]\n",
    "count_dict = defaultdict(int)\n",
    "\n",
    "for element in my_list:\n",
    "    count_dict[element] += 1\n",
    "\n",
    "print(count_dict)"
   ]
  },
  {
   "cell_type": "markdown",
   "metadata": {},
   "source": [
    "Example 2: Grouping elements of a list by their lengths"
   ]
  },
  {
   "cell_type": "code",
   "execution_count": 6,
   "metadata": {},
   "outputs": [
    {
     "name": "stdout",
     "output_type": "stream",
     "text": [
      "defaultdict(<class 'list'>, {5: ['apple', 'grape'], 6: ['banana'], 4: ['pear', 'kiwi']})\n"
     ]
    }
   ],
   "source": [
    "from collections import defaultdict\n",
    "\n",
    "words = ['apple', 'banana', 'pear', 'grape', 'kiwi']\n",
    "group_dict = defaultdict(list)\n",
    "\n",
    "for word in words:\n",
    "    group_dict[len(word)].append(word)\n",
    "\n",
    "print(group_dict)"
   ]
  },
  {
   "cell_type": "markdown",
   "metadata": {},
   "source": [
    "Example 3: Accessing non-existing keys without raising KeyError"
   ]
  },
  {
   "cell_type": "code",
   "execution_count": 7,
   "metadata": {},
   "outputs": [
    {
     "name": "stdout",
     "output_type": "stream",
     "text": [
      "Value 1\n",
      "Value 2\n",
      "Not Found\n"
     ]
    }
   ],
   "source": [
    "from collections import defaultdict\n",
    "\n",
    "my_dict = defaultdict(lambda: 'Not Found')\n",
    "my_dict['key1'] = 'Value 1'\n",
    "my_dict['key2'] = 'Value 2'\n",
    "\n",
    "print(my_dict['key1'])\n",
    "print(my_dict['key2'])\n",
    "print(my_dict['key3'])"
   ]
  },
  {
   "cell_type": "markdown",
   "metadata": {},
   "source": [
    "OrderedDict is another useful tool in Python's collections module that maintains the order of keys in a dictionary. Here are some examples of how to use OrderedDict:\n",
    "\n",
    "Example 1: Maintaining the insertion order of dictionary keys"
   ]
  },
  {
   "cell_type": "code",
   "execution_count": 8,
   "metadata": {},
   "outputs": [
    {
     "name": "stdout",
     "output_type": "stream",
     "text": [
      "OrderedDict([('apple', 3), ('banana', 2), ('pear', 5), ('grape', 1)])\n"
     ]
    }
   ],
   "source": [
    "from collections import OrderedDict\n",
    "\n",
    "my_dict = OrderedDict()\n",
    "\n",
    "my_dict['apple'] = 3\n",
    "my_dict['banana'] = 2\n",
    "my_dict['pear'] = 5\n",
    "my_dict['grape'] = 1\n",
    "\n",
    "print(my_dict)"
   ]
  },
  {
   "cell_type": "markdown",
   "metadata": {},
   "source": [
    "Example 2: Reordering dictionary keys using move_to_end()"
   ]
  },
  {
   "cell_type": "code",
   "execution_count": 11,
   "metadata": {},
   "outputs": [
    {
     "name": "stdout",
     "output_type": "stream",
     "text": [
      "OrderedDict([('apple', 3), ('banana', 2), ('grape', 1), ('pear', 5)])\n"
     ]
    }
   ],
   "source": [
    "from collections import OrderedDict\n",
    "\n",
    "my_dict = OrderedDict([('apple', 3), ('banana', 2), ('pear', 5), ('grape', 1)])\n",
    "\n",
    "my_dict.move_to_end('pear')  # Move 'pear' to the end of the dictionary\n",
    "\n",
    "print(my_dict)"
   ]
  },
  {
   "cell_type": "markdown",
   "metadata": {},
   "source": [
    "To create an OrderedDict that is ordered by a lambda function, you can use the key parameter of the OrderedDict constructor. Here's an example:"
   ]
  },
  {
   "cell_type": "code",
   "execution_count": 12,
   "metadata": {},
   "outputs": [
    {
     "name": "stdout",
     "output_type": "stream",
     "text": [
      "OrderedDict([('grape', 1), ('banana', 2), ('apple', 3), ('pear', 5)])\n"
     ]
    }
   ],
   "source": [
    "from collections import OrderedDict\n",
    "\n",
    "my_dict = {'apple': 3, 'banana': 2, 'pear': 5, 'grape': 1}\n",
    "\n",
    "ordered_dict = OrderedDict(sorted(my_dict.items(), key=lambda x: x[1]))\n",
    "\n",
    "print(ordered_dict)"
   ]
  }
 ],
 "metadata": {
  "kernelspec": {
   "display_name": "Python 3",
   "language": "python",
   "name": "python3"
  },
  "language_info": {
   "codemirror_mode": {
    "name": "ipython",
    "version": 3
   },
   "file_extension": ".py",
   "mimetype": "text/x-python",
   "name": "python",
   "nbconvert_exporter": "python",
   "pygments_lexer": "ipython3",
   "version": "3.10.6"
  },
  "orig_nbformat": 4
 },
 "nbformat": 4,
 "nbformat_minor": 2
}
