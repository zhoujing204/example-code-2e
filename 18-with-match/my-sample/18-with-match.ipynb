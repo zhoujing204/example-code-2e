{
 "cells": [
  {
   "cell_type": "markdown",
   "metadata": {},
   "source": [
    "# Chapter 18: with, match, and else Blocks"
   ]
  },
  {
   "cell_type": "markdown",
   "metadata": {},
   "source": [
    "## Context Managers and with Blocks"
   ]
  },
  {
   "cell_type": "code",
   "execution_count": 13,
   "metadata": {},
   "outputs": [],
   "source": [
    "# tag::MIRROR_EX[]\n",
    "import sys\n",
    "\n",
    "class LookingGlass:\n",
    "\n",
    "    def __enter__(self):  # <1>\n",
    "        self.original_write = sys.stdout.write  # <2>\n",
    "        sys.stdout.write = self.reverse_write  # <3>\n",
    "        return 'JABBERWOCKY'  # <4>\n",
    "\n",
    "    def reverse_write(self, text):  # <5>\n",
    "        self.original_write(text[::-1])\n",
    "\n",
    "    def __exit__(self, exc_type, exc_value, traceback):  # <6>\n",
    "        sys.stdout.write = self.original_write  # <7>\n",
    "        if exc_type is ZeroDivisionError:  # <8>\n",
    "            print('Please DO NOT divide by zero!')\n",
    "            return True  # <9>\n",
    "        # <10>\n",
    "# end::MIRROR_EX[]"
   ]
  },
  {
   "cell_type": "markdown",
   "metadata": {},
   "source": [
    "1. Python invokes `__enter__` with on argument besides `self`.\n",
    "2. Hold the original `sys.stdout.write` method, so we can restore it later.\n",
    "3. Monkey-patch `sys.stdout.write` with our own function.\n",
    "4. Return the 'JABBERWOCKY' string just so we have something to put in the target variable `what`.\n",
    "5. Our replacement to `sys.stdout.write` reverse the `text` argument and calls the original `sys.stdout.write` method.\n",
    "6. Python calls `__exit__` with `None`, `None`, `None` if all went well; if an exception is raised, the three arguments get the exception data, as described after this example.\n",
    "7. Restore the original `sys.stdout.write` method.\n",
    "8. If the exception is not `None` and its type is `ZeroDivisionError`, print a message.\n",
    "9. Return `True` to indicate that the exception was handled.\n",
    "10. If `__exit__` returns `None` or any falsy value, any exception raised in the with block will be propagated.\n",
    "\n",
    "The three argument passed to `__exit__` are:\n",
    "- `exc_type`: The exception class (e.g., `ZeroDivisionError`).\n",
    "- `exc_value`: The exception instance. Sometimes, parameters passed to the exception constructor--such as the error message--can be found in `exc_value.args`.\n",
    "- `traceback`: A traceback object."
   ]
  },
  {
   "cell_type": "code",
   "execution_count": 14,
   "metadata": {},
   "outputs": [
    {
     "name": "stdout",
     "output_type": "stream",
     "text": [
      "pordwonS dna yttiK ,ecilA\n",
      "YKCOWREBBAJ\n",
      "Please DO NOT divide by zero!\n"
     ]
    }
   ],
   "source": [
    "with LookingGlass() as what: #1\n",
    "    print('Alice, Kitty and Snowdrop') #2\n",
    "    print(what)\n",
    "    print(5/0)"
   ]
  },
  {
   "cell_type": "code",
   "execution_count": 15,
   "metadata": {},
   "outputs": [
    {
     "data": {
      "text/plain": [
       "'JABBERWOCKY'"
      ]
     },
     "execution_count": 15,
     "metadata": {},
     "output_type": "execute_result"
    }
   ],
   "source": [
    "what #3"
   ]
  },
  {
   "cell_type": "code",
   "execution_count": 16,
   "metadata": {},
   "outputs": [
    {
     "name": "stdout",
     "output_type": "stream",
     "text": [
      "Back to normal.\n"
     ]
    }
   ],
   "source": [
    "print('Back to normal.') #4"
   ]
  },
  {
   "cell_type": "markdown",
   "metadata": {},
   "source": [
    "1. The context manager is an instance of `LookingGlass`； Python calls `__enter__` on the context manager and the result is bound to `what`.\n",
    "2. Print a `str`, then the value of the target variable `what`. The output of each `print` will come out reversed.\n",
    "3. Now the with block is over. We can see that the value of `what` is back to normal.\n",
    "4. Program output is no longer reversed."
   ]
  },
  {
   "cell_type": "markdown",
   "metadata": {},
   "source": [
    "### The contextlib Utilities"
   ]
  },
  {
   "cell_type": "markdown",
   "metadata": {},
   "source": [
    "The `contextlib` package also includes:\n",
    "\n",
    "- `closing`: A function to build context managers out of objects that provide a `close()` method but don't implement the `__enter__/__exit__` protocol.\n",
    "- `suppress`: A context manager to temporarily ignore specified exceptions.\n",
    "- `nullcontext`: A context manager that does nothing, to simplify conditional logic around objects that may not implement a suitable context manager. It serves as a stand-in when conditional code before the `with` block may or may not provide a context manager for the with statement.\n"
   ]
  },
  {
   "cell_type": "markdown",
   "metadata": {},
   "source": [
    "### Using @contextmanager"
   ]
  },
  {
   "cell_type": "markdown",
   "metadata": {},
   "source": [
    "The `@contextmanager` decorator is an elegant and practical tool that brings together three distinctive Python features: a function decorator, a generator, and the `with` statement."
   ]
  },
  {
   "cell_type": "code",
   "execution_count": 17,
   "metadata": {},
   "outputs": [],
   "source": [
    "import contextlib\n",
    "import sys\n",
    "\n",
    "@contextlib.contextmanager #1\n",
    "def looking_glass():\n",
    "    original_write = sys.stdout.write #2\n",
    "    \n",
    "    def reverse_write(text): #3\n",
    "        original_write(text[::-1])\n",
    "        \n",
    "    sys.stdout.write = reverse_write #4\n",
    "    yield 'JABBERWOCKY' #5\n",
    "    sys.stdout.write = original_write #6"
   ]
  },
  {
   "cell_type": "markdown",
   "metadata": {},
   "source": [
    "Test-driving the `looking_glass` context manager function."
   ]
  },
  {
   "cell_type": "code",
   "execution_count": 18,
   "metadata": {},
   "outputs": [
    {
     "name": "stdout",
     "output_type": "stream",
     "text": [
      "pordwonS dna yttiK ,ecilA\n",
      "YKCOWREBBAJ\n"
     ]
    }
   ],
   "source": [
    "with looking_glass() as what: #1\n",
    "    print('Alice, Kitty and Snowdrop') #2\n",
    "    print(what)"
   ]
  },
  {
   "cell_type": "code",
   "execution_count": 19,
   "metadata": {},
   "outputs": [
    {
     "data": {
      "text/plain": [
       "'JABBERWOCKY'"
      ]
     },
     "execution_count": 19,
     "metadata": {},
     "output_type": "execute_result"
    }
   ],
   "source": [
    "what"
   ]
  },
  {
   "cell_type": "code",
   "execution_count": 20,
   "metadata": {},
   "outputs": [
    {
     "name": "stdout",
     "output_type": "stream",
     "text": [
      "Back to normal.\n"
     ]
    }
   ],
   "source": [
    "print('Back to normal.')"
   ]
  },
  {
   "cell_type": "markdown",
   "metadata": {},
   "source": [
    "A little-known feature of `@contextmanager` is that the generators decorated with it can also be used as decorators themselves. That happens because `@contextmanager` is implemented with the `contextlib.ContextDecorator` class."
   ]
  },
  {
   "cell_type": "code",
   "execution_count": 21,
   "metadata": {},
   "outputs": [
    {
     "name": "stdout",
     "output_type": "stream",
     "text": [
      "emoc sah emit ehT\n"
     ]
    }
   ],
   "source": [
    "@looking_glass()\n",
    "def verse():\n",
    "    print('The time has come')    \n",
    "    \n",
    "verse()"
   ]
  },
  {
   "cell_type": "code",
   "execution_count": 22,
   "metadata": {},
   "outputs": [
    {
     "name": "stdout",
     "output_type": "stream",
     "text": [
      "Back to normal.\n"
     ]
    }
   ],
   "source": [
    "print('Back to normal.')"
   ]
  },
  {
   "cell_type": "markdown",
   "metadata": {},
   "source": [
    "A context manager for rewriting files in place. [inplace source code](https://www.zopatista.com/python/2013/11/26/inplace-file-rewriting/)"
   ]
  },
  {
   "cell_type": "code",
   "execution_count": 64,
   "metadata": {},
   "outputs": [],
   "source": [
    "from contextlib import contextmanager\n",
    "import io\n",
    "import os\n",
    "\n",
    "\n",
    "@contextmanager\n",
    "def inplace(filename, mode='r', buffering=-1, encoding=None, errors=None,\n",
    "            newline=None, backup_extension=None):\n",
    "    \"\"\"Allow for a file to be replaced with new content.\n",
    "\n",
    "    yields a tuple of (readable, writable) file objects, where writable\n",
    "    replaces readable.\n",
    "\n",
    "    If an exception occurs, the old file is restored, removing the\n",
    "    written data.\n",
    "\n",
    "    mode should *not* use 'w', 'a' or '+'; only read-only-modes are supported.\n",
    "\n",
    "    \"\"\"\n",
    "\n",
    "    # move existing file to backup, create new file with same permissions\n",
    "    # borrowed extensively from the fileinput module\n",
    "    if set(mode).intersection('wa+'):\n",
    "        raise ValueError('Only read-only file modes can be used')\n",
    "\n",
    "    backupfilename = filename + (backup_extension or os.extsep + 'bak')\n",
    "    try:\n",
    "        os.unlink(backupfilename)\n",
    "    except os.error:\n",
    "        pass\n",
    "    os.rename(filename, backupfilename)\n",
    "    readable = io.open(backupfilename, mode, buffering=buffering,\n",
    "                        encoding=encoding, errors=errors, newline=newline)\n",
    "    try:\n",
    "        perm = os.fstat(readable.fileno()).st_mode\n",
    "    except OSError:\n",
    "        writable = open(filename, 'w' + mode.replace('r', ''),\n",
    "                        buffering=buffering, encoding=encoding, errors=errors,\n",
    "                        newline=newline)\n",
    "    else:\n",
    "        os_mode = os.O_CREAT | os.O_WRONLY | os.O_TRUNC\n",
    "        if hasattr(os, 'O_BINARY'):\n",
    "            os_mode |= os.O_BINARY\n",
    "        fd = os.open(filename, os_mode, perm)\n",
    "        writable = io.open(fd, \"w\" + mode.replace('r', ''), buffering=buffering,\n",
    "                            encoding=encoding, errors=errors, newline=newline)\n",
    "        try:\n",
    "            if hasattr(os, 'chmod'):\n",
    "                os.chmod(filename, perm)\n",
    "        except OSError:\n",
    "            pass\n",
    "    try:\n",
    "        yield readable, writable\n",
    "    except Exception:\n",
    "        # move backup back\n",
    "        try:\n",
    "            os.unlink(filename)\n",
    "        except os.error:\n",
    "            pass\n",
    "        os.rename(backupfilename, filename)\n",
    "        raise\n",
    "    finally:\n",
    "        readable.close()\n",
    "        writable.close()\n",
    "        try:\n",
    "            os.unlink(backupfilename)\n",
    "        except os.error:\n",
    "            pass"
   ]
  },
  {
   "cell_type": "code",
   "execution_count": null,
   "metadata": {},
   "outputs": [],
   "source": [
    "# need to run in linux os.\n",
    "import csv\n",
    "\n",
    "with inplace('./test.txt', 'r', newline='') as (infh, outfn):\n",
    "    reader = csv.reader(infh)\n",
    "    writer = csv.writer(outfn)\n",
    "    \n",
    "    for row in reader:\n",
    "        row += ['new', 'columns']\n",
    "        writer.writerow(row)"
   ]
  },
  {
   "cell_type": "markdown",
   "metadata": {},
   "source": [
    "## Pattern Matching in lis.py: A Case Study"
   ]
  },
  {
   "cell_type": "markdown",
   "metadata": {},
   "source": [
    "### Scheme Syntax"
   ]
  },
  {
   "cell_type": "markdown",
   "metadata": {},
   "source": [
    "Greatest common divisor in Scheme\n",
    "\n",
    "```\n",
    "(define (mod m n)\n",
    "    (- m (* (quotient m n))))\n",
    "\n",
    "(define (gcd m n)\n",
    "    (if (= n 0)\n",
    "        m\n",
    "        (gcd n (mod m n))))\n",
    "\n",
    "(display (gcd 18 45))\n",
    "```"
   ]
  },
  {
   "cell_type": "code",
   "execution_count": null,
   "metadata": {},
   "outputs": [],
   "source": [
    "# Same as the example above, written in Python\n",
    "\n",
    "def mod(m, n):\n",
    "    return m - (m // n * n)\n",
    "\n",
    "def gcd(m, n):\n",
    "    return m if n == 0 else gcd(n, mod(m, n))\n",
    "\n",
    "print(gcd(18, 45))"
   ]
  },
  {
   "cell_type": "markdown",
   "metadata": {},
   "source": [
    "### The Parser"
   ]
  },
  {
   "cell_type": "code",
   "execution_count": 25,
   "metadata": {},
   "outputs": [
    {
     "data": {
      "text/plain": [
       "1.5"
      ]
     },
     "execution_count": 25,
     "metadata": {},
     "output_type": "execute_result"
    }
   ],
   "source": [
    "from lis import parse\n",
    "\n",
    "parse('1.5')"
   ]
  },
  {
   "cell_type": "code",
   "execution_count": 27,
   "metadata": {},
   "outputs": [
    {
     "data": {
      "text/plain": [
       "'ni!'"
      ]
     },
     "execution_count": 27,
     "metadata": {},
     "output_type": "execute_result"
    }
   ],
   "source": [
    "parse('ni!')"
   ]
  },
  {
   "cell_type": "code",
   "execution_count": 28,
   "metadata": {},
   "outputs": [
    {
     "data": {
      "text/plain": [
       "['gcd', 18, 45]"
      ]
     },
     "execution_count": 28,
     "metadata": {},
     "output_type": "execute_result"
    }
   ],
   "source": [
    "parse('(gcd 18 45)')"
   ]
  },
  {
   "cell_type": "code",
   "execution_count": 29,
   "metadata": {},
   "outputs": [
    {
     "data": {
      "text/plain": [
       "['define', 'double', ['lambda', ['n'], ['*', 2, 'n']]]"
      ]
     },
     "execution_count": 29,
     "metadata": {},
     "output_type": "execute_result"
    }
   ],
   "source": [
    "parse('''\n",
    "(define double\n",
    "  (lambda (n)\n",
    "    (* 2 n)))\n",
    "''')"
   ]
  },
  {
   "cell_type": "code",
   "execution_count": 30,
   "metadata": {},
   "outputs": [
    {
     "data": {
      "text/plain": [
       "['lambda', ['a', 'b'], ['*', ['/', 'a', 'b'], 100]]"
      ]
     },
     "execution_count": 30,
     "metadata": {},
     "output_type": "execute_result"
    }
   ],
   "source": [
    "parse('(lambda (a b) (* (/ a b) 100))')"
   ]
  },
  {
   "cell_type": "markdown",
   "metadata": {},
   "source": [
    "### The Environment"
   ]
  },
  {
   "cell_type": "code",
   "execution_count": 31,
   "metadata": {},
   "outputs": [
    {
     "data": {
      "text/plain": [
       "Environment({'a': 2}, {'a': 0, 'b': 1})"
      ]
     },
     "execution_count": 31,
     "metadata": {},
     "output_type": "execute_result"
    }
   ],
   "source": [
    "from lis import Environment\n",
    "\n",
    "inner_env = {'a': 2}\n",
    "outer_env = {'a': 0, 'b': 1}\n",
    "env = Environment(inner_env, outer_env)\n",
    "env"
   ]
  },
  {
   "cell_type": "code",
   "execution_count": 32,
   "metadata": {},
   "outputs": [
    {
     "name": "stdout",
     "output_type": "stream",
     "text": [
      "2\n",
      "1\n"
     ]
    }
   ],
   "source": [
    "print(env['a']) #1\n",
    "print(env['b'])"
   ]
  },
  {
   "cell_type": "code",
   "execution_count": 33,
   "metadata": {},
   "outputs": [
    {
     "data": {
      "text/plain": [
       "Environment({'a': 111, 'c': 222}, {'a': 0, 'b': 1})"
      ]
     },
     "execution_count": 33,
     "metadata": {},
     "output_type": "execute_result"
    }
   ],
   "source": [
    "env['a'] = 111 #2\n",
    "env['c'] = 222\n",
    "env"
   ]
  },
  {
   "cell_type": "code",
   "execution_count": 34,
   "metadata": {},
   "outputs": [
    {
     "name": "stdout",
     "output_type": "stream",
     "text": [
      "111\n",
      "333\n",
      "222\n"
     ]
    }
   ],
   "source": [
    "env.change('b', 333) #3\n",
    "print(env['a'])\n",
    "print(env['b'])\n",
    "print(env['c'])"
   ]
  },
  {
   "cell_type": "markdown",
   "metadata": {},
   "source": [
    "1. When reading values, `Environment` works as `ChainMap`: keys are searched in the nested mappings from left to right. That's why the value of `a` in the `outer_env` is shadowed by the value of `a` in the `inner_env`.\n",
    "2. Assigning with [] overwrites or inserts new items, but always in the first mapping, `inner_env` in this example.\n",
    "3. `env.change('b', 333)` seeks the `b` key in the nested mappings and changes its value in the first mapping where it is found."
   ]
  },
  {
   "cell_type": "markdown",
   "metadata": {},
   "source": [
    "`Standard_env()` builds and returns the global environment. It's similar to Python's  `__builtins__` module that is always available. The `env` mapping is loaded with:\n",
    "\n",
    "- All functions from Python's `math` module\n",
    "- Selected operators from Python's `operate` module\n",
    "- Simple but powerful functions built Python's `lambda`\n",
    "- Python built-ins renamed, like `callable` as `procedure?`, or directly mapped, like `round`"
   ]
  },
  {
   "cell_type": "code",
   "execution_count": 35,
   "metadata": {},
   "outputs": [
    {
     "name": "stdout",
     "output_type": "stream",
     "text": [
      "98\n"
     ]
    },
    {
     "data": {
      "text/plain": [
       "[{'__name__': 'math',\n",
       "  '__doc__': 'This module provides access to the mathematical functions\\ndefined by the C standard.',\n",
       "  '__package__': '',\n",
       "  '__loader__': _frozen_importlib.BuiltinImporter,\n",
       "  '__spec__': ModuleSpec(name='math', loader=<class '_frozen_importlib.BuiltinImporter'>, origin='built-in'),\n",
       "  'acos': <function math.acos(x, /)>,\n",
       "  'acosh': <function math.acosh(x, /)>,\n",
       "  'asin': <function math.asin(x, /)>,\n",
       "  'asinh': <function math.asinh(x, /)>,\n",
       "  'atan': <function math.atan(x, /)>,\n",
       "  'atan2': <function math.atan2(y, x, /)>,\n",
       "  'atanh': <function math.atanh(x, /)>,\n",
       "  'ceil': <function math.ceil(x, /)>,\n",
       "  'copysign': <function math.copysign(x, y, /)>,\n",
       "  'cos': <function math.cos(x, /)>,\n",
       "  'cosh': <function math.cosh(x, /)>,\n",
       "  'degrees': <function math.degrees(x, /)>,\n",
       "  'dist': <function math.dist(p, q, /)>,\n",
       "  'erf': <function math.erf(x, /)>,\n",
       "  'erfc': <function math.erfc(x, /)>,\n",
       "  'exp': <function math.exp(x, /)>,\n",
       "  'expm1': <function math.expm1(x, /)>,\n",
       "  'fabs': <function math.fabs(x, /)>,\n",
       "  'factorial': <function math.factorial(x, /)>,\n",
       "  'floor': <function math.floor(x, /)>,\n",
       "  'fmod': <function math.fmod(x, y, /)>,\n",
       "  'frexp': <function math.frexp(x, /)>,\n",
       "  'fsum': <function math.fsum(seq, /)>,\n",
       "  'gamma': <function math.gamma(x, /)>,\n",
       "  'gcd': <function math.gcd(*integers)>,\n",
       "  'hypot': <function math.hypot>,\n",
       "  'isclose': <function math.isclose(a, b, *, rel_tol=1e-09, abs_tol=0.0)>,\n",
       "  'isfinite': <function math.isfinite(x, /)>,\n",
       "  'isinf': <function math.isinf(x, /)>,\n",
       "  'isnan': <function math.isnan(x, /)>,\n",
       "  'isqrt': <function math.isqrt(n, /)>,\n",
       "  'lcm': <function math.lcm(*integers)>,\n",
       "  'ldexp': <function math.ldexp(x, i, /)>,\n",
       "  'lgamma': <function math.lgamma(x, /)>,\n",
       "  'log': <function math.log>,\n",
       "  'log1p': <function math.log1p(x, /)>,\n",
       "  'log10': <function math.log10(x, /)>,\n",
       "  'log2': <function math.log2(x, /)>,\n",
       "  'modf': <function math.modf(x, /)>,\n",
       "  'pow': <function math.pow(x, y, /)>,\n",
       "  'radians': <function math.radians(x, /)>,\n",
       "  'remainder': <function math.remainder(x, y, /)>,\n",
       "  'sin': <function math.sin(x, /)>,\n",
       "  'sinh': <function math.sinh(x, /)>,\n",
       "  'sqrt': <function math.sqrt(x, /)>,\n",
       "  'tan': <function math.tan(x, /)>,\n",
       "  'tanh': <function math.tanh(x, /)>,\n",
       "  'trunc': <function math.trunc(x, /)>,\n",
       "  'prod': <function math.prod(iterable, /, *, start=1)>,\n",
       "  'perm': <function math.perm(n, k=None, /)>,\n",
       "  'comb': <function math.comb(n, k, /)>,\n",
       "  'nextafter': <function math.nextafter(x, y, /)>,\n",
       "  'ulp': <function math.ulp(x, /)>,\n",
       "  'pi': 3.141592653589793,\n",
       "  'e': 2.718281828459045,\n",
       "  'tau': 6.283185307179586,\n",
       "  'inf': inf,\n",
       "  'nan': nan,\n",
       "  '+': <function _operator.add(a, b, /)>,\n",
       "  '-': <function _operator.sub(a, b, /)>,\n",
       "  '*': <function _operator.mul(a, b, /)>,\n",
       "  '/': <function _operator.truediv(a, b, /)>,\n",
       "  '//': <function _operator.floordiv(a, b, /)>,\n",
       "  '%': <function _operator.mod(a, b, /)>,\n",
       "  'quotient': <function _operator.floordiv(a, b, /)>,\n",
       "  '>': <function _operator.gt(a, b, /)>,\n",
       "  '<': <function _operator.lt(a, b, /)>,\n",
       "  '>=': <function _operator.ge(a, b, /)>,\n",
       "  '<=': <function _operator.le(a, b, /)>,\n",
       "  '=': <function _operator.eq(a, b, /)>,\n",
       "  'abs': <function abs(x, /)>,\n",
       "  'append': <function lis.standard_env.<locals>.<lambda>(*args)>,\n",
       "  'apply': <function lis.standard_env.<locals>.<lambda>(proc, args)>,\n",
       "  'begin': <function lis.standard_env.<locals>.<lambda>(*x)>,\n",
       "  'car': <function lis.standard_env.<locals>.<lambda>(x)>,\n",
       "  'cdr': <function lis.standard_env.<locals>.<lambda>(x)>,\n",
       "  'cons': <function lis.standard_env.<locals>.<lambda>(x, y)>,\n",
       "  'display': <function lis.standard_env.<locals>.<lambda>(x)>,\n",
       "  'eq?': <function _operator.is_(a, b, /)>,\n",
       "  'equal?': <function _operator.eq(a, b, /)>,\n",
       "  'filter': <function lis.standard_env.<locals>.<lambda>(*args)>,\n",
       "  'length': <function len(obj, /)>,\n",
       "  'list': <function lis.standard_env.<locals>.<lambda>(*x)>,\n",
       "  'list?': <function lis.standard_env.<locals>.<lambda>(x)>,\n",
       "  'map': <function lis.standard_env.<locals>.<lambda>(*args)>,\n",
       "  'max': <function max>,\n",
       "  'min': <function min>,\n",
       "  'not': <function _operator.not_(a, /)>,\n",
       "  'null?': <function lis.standard_env.<locals>.<lambda>(x)>,\n",
       "  'number?': <function lis.standard_env.<locals>.<lambda>(x)>,\n",
       "  'procedure?': <function callable(obj, /)>,\n",
       "  'round': <function round(number, ndigits=None)>,\n",
       "  'symbol?': <function lis.standard_env.<locals>.<lambda>(x)>}]"
      ]
     },
     "execution_count": 35,
     "metadata": {},
     "output_type": "execute_result"
    }
   ],
   "source": [
    "from lis import standard_env\n",
    "\n",
    "env = standard_env()\n",
    "\n",
    "# 96. why so many entries here?\n",
    "# Seems come from math module and operator module: math.pyi and operator.py\n",
    "print(len(env.maps[0])) \n",
    "\n",
    "env.maps"
   ]
  },
  {
   "cell_type": "code",
   "execution_count": 36,
   "metadata": {},
   "outputs": [
    {
     "name": "stdout",
     "output_type": "stream",
     "text": [
      "<built-in function add>\n",
      "<built-in function floordiv>\n",
      "<built-in function mod>\n",
      "3.141592653589793\n",
      "<built-in function sin>\n",
      "<built-in function max>\n",
      "<built-in function gcd>\n"
     ]
    }
   ],
   "source": [
    "print(env.maps[0]['+'])\n",
    "print(env.maps[0]['//'])\n",
    "print(env.maps[0]['%'])\n",
    "print(env.maps[0]['pi'])\n",
    "print(env.maps[0]['sin'])\n",
    "print(env.maps[0]['max'])\n",
    "print(env.maps[0]['gcd'])"
   ]
  },
  {
   "cell_type": "markdown",
   "metadata": {},
   "source": [
    "### The REPL"
   ]
  },
  {
   "cell_type": "markdown",
   "metadata": {},
   "source": [
    "- `repl(prompt: str = 'lis.py> ') -> NoReturn`:  Calls `standard_env()` to provide built-in functions for the global environment, then enters an infinite loop, reading and parsing each input line, evaluating it in the global environment, and displaying the result--unless it's `None`. The `global_env` may be modified by `evaluate`. For example, when a user defines a new global variable or named function, it is stored in the first mapping of the environment--the empty `dict` in the `Environment` constructor call in the first line of `repl`.\n",
    "- `lispstr(exp: object) -> str`:  The inverse function of `parse`, given a Python object representing an expression, `parse` returns the Scheme source code for it. For example, given `['+', 2, 3]`, the result is `(+ 2 3)`."
   ]
  },
  {
   "cell_type": "markdown",
   "metadata": {},
   "source": [
    "### The Evaluator"
   ]
  },
  {
   "cell_type": "markdown",
   "metadata": {},
   "source": [
    "The `evaluate` function takes an `Expression` built by `parse` and an `Environment`.\n",
    "\n",
    "The body of `evaluate` is a single `match` statement with an expression `exp` as the subject. The `case` patterns express the syntax and semantics of Scheme with amazing clarity."
   ]
  },
  {
   "cell_type": "code",
   "execution_count": 37,
   "metadata": {},
   "outputs": [
    {
     "data": {
      "text/plain": [
       "1.5"
      ]
     },
     "execution_count": 37,
     "metadata": {},
     "output_type": "execute_result"
    }
   ],
   "source": [
    "from lis import parse, evaluate, standard_env\n",
    "evaluate(parse('1.5'), {})"
   ]
  },
  {
   "cell_type": "code",
   "execution_count": 38,
   "metadata": {},
   "outputs": [
    {
     "data": {
      "text/plain": [
       "<function _operator.add(a, b, /)>"
      ]
     },
     "execution_count": 38,
     "metadata": {},
     "output_type": "execute_result"
    }
   ],
   "source": [
    "evaluate(parse('+'), standard_env())"
   ]
  },
  {
   "cell_type": "code",
   "execution_count": 39,
   "metadata": {},
   "outputs": [
    {
     "data": {
      "text/plain": [
       "'no-such-thing'"
      ]
     },
     "execution_count": 39,
     "metadata": {},
     "output_type": "execute_result"
    }
   ],
   "source": [
    "evaluate(parse('(quote no-such-thing)'), standard_env())"
   ]
  },
  {
   "cell_type": "code",
   "execution_count": 40,
   "metadata": {},
   "outputs": [
    {
     "data": {
      "text/plain": [
       "[99, 'bottles', 'of', 'beer']"
      ]
     },
     "execution_count": 40,
     "metadata": {},
     "output_type": "execute_result"
    }
   ],
   "source": [
    "evaluate(parse('(quote (99 bottles of beer))'), standard_env())"
   ]
  },
  {
   "cell_type": "code",
   "execution_count": 41,
   "metadata": {},
   "outputs": [
    {
     "data": {
      "text/plain": [
       "['/', 10, 0]"
      ]
     },
     "execution_count": 41,
     "metadata": {},
     "output_type": "execute_result"
    }
   ],
   "source": [
    "evaluate(parse('(quote (/ 10 0))'), standard_env())"
   ]
  },
  {
   "cell_type": "code",
   "execution_count": 42,
   "metadata": {},
   "outputs": [
    {
     "data": {
      "text/plain": [
       "1"
      ]
     },
     "execution_count": 42,
     "metadata": {},
     "output_type": "execute_result"
    }
   ],
   "source": [
    "evaluate(parse('(if (= 3 3) 1 0)'), standard_env())"
   ]
  },
  {
   "cell_type": "code",
   "execution_count": 43,
   "metadata": {},
   "outputs": [
    {
     "data": {
      "text/plain": [
       "0"
      ]
     },
     "execution_count": 43,
     "metadata": {},
     "output_type": "execute_result"
    }
   ],
   "source": [
    "evaluate(parse('(if (= 3 4) 1 0)'), standard_env())"
   ]
  },
  {
   "cell_type": "code",
   "execution_count": 44,
   "metadata": {},
   "outputs": [
    {
     "name": "stdout",
     "output_type": "stream",
     "text": [
      "['lambda', ['a', 'b'], ['*', ['/', 'a', 'b'], 100]]\n"
     ]
    },
    {
     "data": {
      "text/plain": [
       "<lis.Procedure at 0x1d88cc65a20>"
      ]
     },
     "execution_count": 44,
     "metadata": {},
     "output_type": "execute_result"
    }
   ],
   "source": [
    "expr = '(lambda (a b) (* (/ a b) 100))'\n",
    "print(parse(expr))\n",
    "f = evaluate(parse(expr), standard_env())\n",
    "f"
   ]
  },
  {
   "cell_type": "code",
   "execution_count": 45,
   "metadata": {},
   "outputs": [
    {
     "data": {
      "text/plain": [
       "75.0"
      ]
     },
     "execution_count": 45,
     "metadata": {},
     "output_type": "execute_result"
    }
   ],
   "source": [
    "f(15, 20)"
   ]
  },
  {
   "cell_type": "code",
   "execution_count": 46,
   "metadata": {},
   "outputs": [
    {
     "data": {
      "text/plain": [
       "42"
      ]
     },
     "execution_count": 46,
     "metadata": {},
     "output_type": "execute_result"
    }
   ],
   "source": [
    "global_env = standard_env()\n",
    "evaluate(parse('(define answer (* 7 6))'), global_env)\n",
    "global_env['answer']"
   ]
  },
  {
   "cell_type": "code",
   "execution_count": 47,
   "metadata": {},
   "outputs": [
    {
     "data": {
      "text/plain": [
       "99"
      ]
     },
     "execution_count": 47,
     "metadata": {},
     "output_type": "execute_result"
    }
   ],
   "source": [
    "len(global_env.maps[0])"
   ]
  },
  {
   "cell_type": "code",
   "execution_count": 48,
   "metadata": {},
   "outputs": [
    {
     "data": {
      "text/plain": [
       "42"
      ]
     },
     "execution_count": 48,
     "metadata": {},
     "output_type": "execute_result"
    }
   ],
   "source": [
    "evaluate(parse('answer'), global_env)"
   ]
  },
  {
   "cell_type": "code",
   "execution_count": 54,
   "metadata": {},
   "outputs": [
    {
     "data": {
      "text/plain": [
       "<lis.Procedure at 0x1d88cc66ec0>"
      ]
     },
     "execution_count": 54,
     "metadata": {},
     "output_type": "execute_result"
    }
   ],
   "source": [
    "percent = '(define (perc a b) (* (/ a b) 100))'\n",
    "evaluate(parse(percent), global_env)\n",
    "global_env['perc']"
   ]
  },
  {
   "cell_type": "code",
   "execution_count": 55,
   "metadata": {},
   "outputs": [
    {
     "data": {
      "text/plain": [
       "85.0"
      ]
     },
     "execution_count": 55,
     "metadata": {},
     "output_type": "execute_result"
    }
   ],
   "source": [
    "global_env['perc'](170, 200)"
   ]
  },
  {
   "cell_type": "markdown",
   "metadata": {},
   "source": [
    "The use of the `set!` form is related to the use of the `nonlocal` keyword in Python: declaring `nonlocal x` allow `x = 10` to update a previously defined `x` variable outside of local scope."
   ]
  },
  {
   "cell_type": "code",
   "execution_count": 51,
   "metadata": {},
   "outputs": [
    {
     "data": {
      "text/plain": [
       "<lis.Procedure at 0x1d88cc670d0>"
      ]
     },
     "execution_count": 51,
     "metadata": {},
     "output_type": "execute_result"
    }
   ],
   "source": [
    "from lis import parse, evaluate, standard_env\n",
    "\n",
    "expr = '''\n",
    "(define (make-averager)\n",
    "    (define count 0)\n",
    "    (define total 0)\n",
    "    (lambda (new-value)\n",
    "        (set! count (+ count 1))\n",
    "        (set! total (+ total new-value))\n",
    "        (/ total count)\n",
    "    )\n",
    ")\n",
    "'''\n",
    "\n",
    "evaluate(parse(expr), global_env)\n",
    "global_env['make-averager']"
   ]
  },
  {
   "cell_type": "code",
   "execution_count": 52,
   "metadata": {},
   "outputs": [
    {
     "data": {
      "text/plain": [
       "<lis.Procedure at 0x1d88cb3dd80>"
      ]
     },
     "execution_count": 52,
     "metadata": {},
     "output_type": "execute_result"
    }
   ],
   "source": [
    "avg = '(define avg (make-averager))'\n",
    "evaluate(parse(avg), global_env)\n",
    "global_env['avg']"
   ]
  },
  {
   "cell_type": "code",
   "execution_count": 53,
   "metadata": {},
   "outputs": [
    {
     "name": "stdout",
     "output_type": "stream",
     "text": [
      "10.0\n",
      "10.5\n",
      "12.0\n"
     ]
    }
   ],
   "source": [
    "print(global_env['avg'](10))\n",
    "print(global_env['avg'](11))\n",
    "print(global_env['avg'](15))"
   ]
  },
  {
   "cell_type": "code",
   "execution_count": 56,
   "metadata": {},
   "outputs": [
    {
     "data": {
      "text/plain": [
       "42.0"
      ]
     },
     "execution_count": 56,
     "metadata": {},
     "output_type": "execute_result"
    }
   ],
   "source": [
    "evaluate(parse('(perc (* 12 14) (- 500 100))'), global_env)"
   ]
  },
  {
   "cell_type": "markdown",
   "metadata": {},
   "source": [
    "### Procedure: A Class Implementing a Closure"
   ]
  },
  {
   "cell_type": "markdown",
   "metadata": {},
   "source": [
    "The `Procedure` class could very well be named `Closure`, because that's what it represents: a function together with an environment. The function definition includes the name of the parameters and the expressions that make up the body fo the function. The environment is used when the function is called to provide the values of the `free variables`: variables that appear in the body of the function but are not parameters, local variables, or global variables."
   ]
  },
  {
   "cell_type": "code",
   "execution_count": null,
   "metadata": {},
   "outputs": [],
   "source": []
  },
  {
   "cell_type": "markdown",
   "metadata": {},
   "source": [
    "### Using OR-patterns"
   ]
  },
  {
   "cell_type": "markdown",
   "metadata": {},
   "source": [
    "```python\n",
    "case int(x) | float(x):\n",
    "    return x\n",
    "```\n",
    "\n",
    "In the context of a `case` clause, the | operator has a special meaning. It does not trigger the `__or__` special method, which handles expressions like `a | b` in Python, where it is overloaded to perform operations such as set union or integer bitwise-or, depending on the operands."
   ]
  },
  {
   "cell_type": "markdown",
   "metadata": {},
   "source": [
    "## Do this, Then That: else Blocks Beyond if"
   ]
  },
  {
   "cell_type": "markdown",
   "metadata": {},
   "source": [
    "The `else` clause can be used not only in `if` statements, but also in `while`, `for`, and `try` statements. \n",
    "\n",
    "Here are the rules for using `else` with these statements:\n",
    "\n",
    "- `for`: The `else` block will run only `if` and when `for` loop runs to completion (i.e., not when the loop is terminated by a `break` statement).\n",
    "- `while`: The `else` block will run only `if` and when the `while` loop exits because the condition became falsy (i.e., not when the loop is terminated by a `break` statement).\n",
    "- `try`: The `else` block will only run `if` no exception is raised in the `try` block. The office docs also state: \"Exceptions in the else clause are not handled by the preceding except clauses.\"\n",
    "- In all cases, the `else` clause is also skipped if an exception or a `return`, `break`, or `continue` statement causes control to jump out of the main block of the compound statement."
   ]
  },
  {
   "cell_type": "code",
   "execution_count": 60,
   "metadata": {},
   "outputs": [],
   "source": [
    "my_list = ['apple', 'banana', 'grapes', 'pear']\n",
    "\n",
    "for item in my_list:\n",
    "    if item == 'banana':\n",
    "        break\n",
    "else:\n",
    "    raise ValueError('No banana flavor found!')"
   ]
  },
  {
   "cell_type": "markdown",
   "metadata": {},
   "source": [
    "EAFP\n",
    "\n",
    "Easier to ask for forgiveness than permission. This common Python coding style assumes the existence of valid keys or attributes and catches exceptions if the assumption proves false. This clean and fast style is characterized by the presence of many `try` and `except` statements. The technique contrasts with the LBYL style common to many other languages such as C."
   ]
  },
  {
   "cell_type": "markdown",
   "metadata": {},
   "source": [
    "LBYL\n",
    "\n",
    "Look before you leap. This coding style explicitly tests for pre-conditions before making calls or lookups. This style contrasts with the EAFP approach and is characterized by the presence of many `if` statements. In a multi-threaded, the LBYL approach can risk introducing a race condition between \"the looping\" and \"the leaping.\" For example, the code, if key in mapping: return mapping[key] can fail if another thread removes key from mapping after the test, but before the lookup. The issue can be solved with locks or by using the EAFP approach."
   ]
  }
 ],
 "metadata": {
  "kernelspec": {
   "display_name": "Python 3",
   "language": "python",
   "name": "python3"
  },
  "language_info": {
   "codemirror_mode": {
    "name": "ipython",
    "version": 3
   },
   "file_extension": ".py",
   "mimetype": "text/x-python",
   "name": "python",
   "nbconvert_exporter": "python",
   "pygments_lexer": "ipython3",
   "version": "0.0.0"
  }
 },
 "nbformat": 4,
 "nbformat_minor": 2
}
