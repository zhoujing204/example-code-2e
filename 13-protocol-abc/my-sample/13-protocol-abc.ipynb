{
 "cells": [
  {
   "cell_type": "markdown",
   "metadata": {},
   "source": [
    "# 13 Interfaces, Protocols, and ABCs"
   ]
  },
  {
   "cell_type": "markdown",
   "metadata": {},
   "source": [
    "## The Typing Map\n",
    "\n",
    "![The Typing Map](./img/2023-10-04-08-21-17.png)\n",
    "\n",
    "![Sequence ABCs](./img/2023-10-04-10-14-44.png)"
   ]
  },
  {
   "cell_type": "markdown",
   "metadata": {},
   "source": [
    "## Two kinds of protocols\n",
    "\n",
    "- Dynamic protocol: The informal protocols Python always had. Dynamic protocols are implicit, defined by convention, and described in the documentation. Python's most important dynamic protocols are supported by the interpreter itself, and are documented in the [\"Data Model\" chapter of The Python Language Reference](https://docs.python.org/3/reference/datamodel.html).\n",
    "- Static protocol: A protocol as defined by [PEP 544--Protocols: Structural subtyping(static duck typing)](https://peps.python.org/pep-0544/), since Python 3.8. A static protocol has explicit definition: a `typing.Protocol` subclass\n",
    "\n",
    "There are two key differences between them:\n",
    "- An object may implement only part of dynamic protocol and still be useful; but to fulfill a static protocol, the object must provide every method declared in the protocol class, even if your program doesn't need them all.\n",
    "- Static protocols can verified by static type checkers, but dynamic protocols can't.\n"
   ]
  },
  {
   "cell_type": "code",
   "execution_count": 6,
   "metadata": {},
   "outputs": [],
   "source": [
    "class Vowels:\n",
    "    def __getitem__(self, i):\n",
    "        return 'AEIOU'[i]"
   ]
  },
  {
   "cell_type": "code",
   "execution_count": 7,
   "metadata": {},
   "outputs": [
    {
     "data": {
      "text/plain": [
       "'A'"
      ]
     },
     "execution_count": 7,
     "metadata": {},
     "output_type": "execute_result"
    }
   ],
   "source": [
    "v = Vowels()\n",
    "v[0]"
   ]
  },
  {
   "cell_type": "code",
   "execution_count": 8,
   "metadata": {},
   "outputs": [
    {
     "data": {
      "text/plain": [
       "'U'"
      ]
     },
     "execution_count": 8,
     "metadata": {},
     "output_type": "execute_result"
    }
   ],
   "source": [
    "v[-1]"
   ]
  },
  {
   "cell_type": "code",
   "execution_count": 9,
   "metadata": {},
   "outputs": [
    {
     "name": "stdout",
     "output_type": "stream",
     "text": [
      "A\n",
      "E\n",
      "I\n",
      "O\n",
      "U\n"
     ]
    }
   ],
   "source": [
    "for c in v: print(c)"
   ]
  },
  {
   "cell_type": "code",
   "execution_count": 10,
   "metadata": {},
   "outputs": [
    {
     "ename": "TypeError",
     "evalue": "object of type 'Vowels' has no len()",
     "output_type": "error",
     "traceback": [
      "\u001b[1;31m---------------------------------------------------------------------------\u001b[0m",
      "\u001b[1;31mTypeError\u001b[0m                                 Traceback (most recent call last)",
      "\u001b[1;32md:\\workspaces\\example-code-2e\\13-protocol-abc\\my-sample\\13-protocol-abc.ipynb Cell 8\u001b[0m line \u001b[0;36m<cell line: 1>\u001b[1;34m()\u001b[0m\n\u001b[1;32m----> <a href='vscode-notebook-cell:/d%3A/workspaces/example-code-2e/13-protocol-abc/my-sample/13-protocol-abc.ipynb#X10sZmlsZQ%3D%3D?line=0'>1</a>\u001b[0m \u001b[39mlen\u001b[39;49m(v)\n",
      "\u001b[1;31mTypeError\u001b[0m: object of type 'Vowels' has no len()"
     ]
    }
   ],
   "source": [
    "len(v)"
   ]
  },
  {
   "cell_type": "code",
   "execution_count": null,
   "metadata": {},
   "outputs": [
    {
     "name": "stdout",
     "output_type": "stream",
     "text": [
      "('rank', 'suit')\n",
      "[Card(rank='2', suit='spades'), Card(rank='2', suit='diamonds'), Card(rank='2', suit='clubs'), Card(rank='2', suit='hearts'), Card(rank='3', suit='spades')]\n",
      "52\n"
     ]
    }
   ],
   "source": [
    "import collections\n",
    "\n",
    "Card = collections.namedtuple('Card', ['rank', 'suit'])\n",
    "print(Card._fields)\n",
    "\n",
    "ranks = [str(n) for n in range(2, 11)] + list('JQKA')\n",
    "suits = 'spades diamonds clubs hearts'.split()\n",
    "deck = [Card(rank, suit) for rank in ranks for suit in suits]\n",
    "print(deck[:5])\n",
    "print(len(deck))\n"
   ]
  },
  {
   "cell_type": "code",
   "execution_count": null,
   "metadata": {},
   "outputs": [
    {
     "data": {
      "text/plain": [
       "[Card(rank='A', suit='hearts'),\n",
       " Card(rank='5', suit='diamonds'),\n",
       " Card(rank='4', suit='clubs'),\n",
       " Card(rank='2', suit='diamonds'),\n",
       " Card(rank='K', suit='diamonds')]"
      ]
     },
     "execution_count": 17,
     "metadata": {},
     "output_type": "execute_result"
    }
   ],
   "source": [
    "from random import shuffle\n",
    "shuffle(deck)\n",
    "deck[:5]"
   ]
  },
  {
   "cell_type": "markdown",
   "metadata": {},
   "source": [
    "`str.isidentifier()` method explained"
   ]
  },
  {
   "cell_type": "code",
   "execution_count": null,
   "metadata": {},
   "outputs": [
    {
     "name": "stdout",
     "output_type": "stream",
     "text": [
      "True\n",
      "False\n",
      "True\n",
      "True\n",
      "True\n",
      "True\n",
      "False\n"
     ]
    }
   ],
   "source": [
    "print(\"hello\".isidentifier())      # Output: True\n",
    "print(\"123\".isidentifier())        # Output: False (starts with a number)\n",
    "print(\"_var\".isidentifier())       # Output: True\n",
    "print(\"if\".isidentifier())         # Output: False (reserved keyword)\n",
    "print(\"my_function\".isidentifier())# Output: True\n",
    "print(\"class\".isidentifier())      # Output: False (reserved keyword)\n",
    "print(\"some-var\".isidentifier())   # Output: False (contains '-')\n"
   ]
  },
  {
   "cell_type": "markdown",
   "metadata": {},
   "source": [
    "`namedtuple` fields must be identifiers."
   ]
  },
  {
   "cell_type": "code",
   "execution_count": null,
   "metadata": {},
   "outputs": [
    {
     "ename": "ValueError",
     "evalue": "Type names and field names must be valid identifiers: '1pass'",
     "output_type": "error",
     "traceback": [
      "\u001b[1;31m---------------------------------------------------------------------------\u001b[0m",
      "\u001b[1;31mValueError\u001b[0m                                Traceback (most recent call last)",
      "\u001b[1;32md:\\workspaces\\example-code-2e\\13-protocol-abc\\my-sample\\13-protocol-abc.ipynb Cell 14\u001b[0m line \u001b[0;36m<cell line: 5>\u001b[1;34m()\u001b[0m\n\u001b[0;32m      <a href='vscode-notebook-cell:/d%3A/workspaces/example-code-2e/13-protocol-abc/my-sample/13-protocol-abc.ipynb#X15sZmlsZQ%3D%3D?line=0'>1</a>\u001b[0m \u001b[39mfrom\u001b[39;00m \u001b[39mcollections\u001b[39;00m \u001b[39mimport\u001b[39;00m namedtuple\n\u001b[0;32m      <a href='vscode-notebook-cell:/d%3A/workspaces/example-code-2e/13-protocol-abc/my-sample/13-protocol-abc.ipynb#X15sZmlsZQ%3D%3D?line=2'>3</a>\u001b[0m \u001b[39m# Define a named tuple with valid field names\u001b[39;00m\n\u001b[0;32m      <a href='vscode-notebook-cell:/d%3A/workspaces/example-code-2e/13-protocol-abc/my-sample/13-protocol-abc.ipynb#X15sZmlsZQ%3D%3D?line=3'>4</a>\u001b[0m \u001b[39m# '1pass' is not a valid field name\u001b[39;00m\n\u001b[1;32m----> <a href='vscode-notebook-cell:/d%3A/workspaces/example-code-2e/13-protocol-abc/my-sample/13-protocol-abc.ipynb#X15sZmlsZQ%3D%3D?line=4'>5</a>\u001b[0m Person \u001b[39m=\u001b[39m namedtuple(\u001b[39m'\u001b[39;49m\u001b[39mPerson\u001b[39;49m\u001b[39m'\u001b[39;49m, [\u001b[39m'\u001b[39;49m\u001b[39mname\u001b[39;49m\u001b[39m'\u001b[39;49m, \u001b[39m'\u001b[39;49m\u001b[39mage\u001b[39;49m\u001b[39m'\u001b[39;49m, \u001b[39m'\u001b[39;49m\u001b[39mcity\u001b[39;49m\u001b[39m'\u001b[39;49m, \u001b[39m'\u001b[39;49m\u001b[39m1pass\u001b[39;49m\u001b[39m'\u001b[39;49m])\n\u001b[0;32m      <a href='vscode-notebook-cell:/d%3A/workspaces/example-code-2e/13-protocol-abc/my-sample/13-protocol-abc.ipynb#X15sZmlsZQ%3D%3D?line=5'>6</a>\u001b[0m p \u001b[39m=\u001b[39m Person(\u001b[39m'\u001b[39m\u001b[39mJohn\u001b[39m\u001b[39m'\u001b[39m, \u001b[39m25\u001b[39m, \u001b[39m'\u001b[39m\u001b[39mNew York\u001b[39m\u001b[39m'\u001b[39m, \u001b[39mTrue\u001b[39;00m)\n\u001b[0;32m      <a href='vscode-notebook-cell:/d%3A/workspaces/example-code-2e/13-protocol-abc/my-sample/13-protocol-abc.ipynb#X15sZmlsZQ%3D%3D?line=7'>8</a>\u001b[0m \u001b[39mprint\u001b[39m(p\u001b[39m.\u001b[39mname)  \u001b[39m# Output: John\u001b[39;00m\n",
      "File \u001b[1;32mc:\\Users\\Administrator\\AppData\\Local\\Programs\\Python\\Python310\\lib\\collections\\__init__.py:373\u001b[0m, in \u001b[0;36mnamedtuple\u001b[1;34m(typename, field_names, rename, defaults, module)\u001b[0m\n\u001b[0;32m    371\u001b[0m     \u001b[39mraise\u001b[39;00m \u001b[39mTypeError\u001b[39;00m(\u001b[39m'\u001b[39m\u001b[39mType names and field names must be strings\u001b[39m\u001b[39m'\u001b[39m)\n\u001b[0;32m    372\u001b[0m \u001b[39mif\u001b[39;00m \u001b[39mnot\u001b[39;00m name\u001b[39m.\u001b[39misidentifier():\n\u001b[1;32m--> 373\u001b[0m     \u001b[39mraise\u001b[39;00m \u001b[39mValueError\u001b[39;00m(\u001b[39m'\u001b[39m\u001b[39mType names and field names must be valid \u001b[39m\u001b[39m'\u001b[39m\n\u001b[0;32m    374\u001b[0m                      \u001b[39mf\u001b[39m\u001b[39m'\u001b[39m\u001b[39midentifiers: \u001b[39m\u001b[39m{\u001b[39;00mname\u001b[39m!r}\u001b[39;00m\u001b[39m'\u001b[39m)\n\u001b[0;32m    375\u001b[0m \u001b[39mif\u001b[39;00m _iskeyword(name):\n\u001b[0;32m    376\u001b[0m     \u001b[39mraise\u001b[39;00m \u001b[39mValueError\u001b[39;00m(\u001b[39m'\u001b[39m\u001b[39mType names and field names cannot be a \u001b[39m\u001b[39m'\u001b[39m\n\u001b[0;32m    377\u001b[0m                      \u001b[39mf\u001b[39m\u001b[39m'\u001b[39m\u001b[39mkeyword: \u001b[39m\u001b[39m{\u001b[39;00mname\u001b[39m!r}\u001b[39;00m\u001b[39m'\u001b[39m)\n",
      "\u001b[1;31mValueError\u001b[0m: Type names and field names must be valid identifiers: '1pass'"
     ]
    }
   ],
   "source": [
    "from collections import namedtuple\n",
    "\n",
    "# Define a named tuple with valid field names\n",
    "# '1pass' is not a valid field name\n",
    "Person = namedtuple('Person', ['name', 'age', 'city', '1pass'])\n",
    "p = Person('John', 25, 'New York', True)\n",
    "\n",
    "print(p.name)  # Output: John\n",
    "print(p.age)   # Output: 25\n",
    "print(p.city)  # Output: New York"
   ]
  },
  {
   "cell_type": "markdown",
   "metadata": {},
   "source": [
    "## Goose Typing\n",
    "\n",
    "The Python Glossary entry for [abstract base class](https://docs.python.org/3/glossary.html#term-abstract-base-class) has a good explanation of the value they bring to duck-typed languages:\n",
    "> Abstract base classes complement duck-typing by providing a way to define interfaces when other techniques like hasattr() would be clumsy or subtly wrong (for example with magic methods). ABCs introduce virtual subclasses, which are classes that don’t inherit from a class but are still recognized by isinstance() and issubclass(); see the abc module documentation. Python comes with many built-in ABCs for data structures (in the collections.abc module), numbers (in the numbers module), streams (in the io module), import finders and loaders (in the importlib.abc module). You can create your own ABCs with the abc module."
   ]
  },
  {
   "cell_type": "markdown",
   "metadata": {},
   "source": [
    "To summarize, goose typing entails:\n",
    "- Subclassing from ABCs to make it explict that you are implementing a previously defined interface.\n",
    "- Runtime type checking using ABCs instead of concrete classes as the second argument for `isinstance` and `issubclass`\n",
    "- Don’t define custom ABCs (or metaclasses) in production code"
   ]
  },
  {
   "cell_type": "markdown",
   "metadata": {},
   "source": [
    "## Subclassing an ABC"
   ]
  },
  {
   "cell_type": "code",
   "execution_count": null,
   "metadata": {},
   "outputs": [],
   "source": [
    "from collections import namedtuple, abc\n",
    "\n",
    "Card = namedtuple('Card', ['rank', 'suit'])\n",
    "\n",
    "class FrenchDeck2(abc.MutableSequence):\n",
    "    ranks = [str(n) for n in range(2, 11)] + list('JQKA')\n",
    "    suits = 'spades diamonds clubs hearts'.split()\n",
    "    \n",
    "    def __init__(self) :\n",
    "        self._cards = [Card(rank, suit) for rank in self.ranks\n",
    "                                        for suit in self.suits]\n",
    "        \n",
    "    def __len__(self):\n",
    "        return len(self._cards)\n",
    "    \n",
    "    def __getitem__(self, position):\n",
    "        return self._cards[position]\n",
    "    \n",
    "    def __setitem__(self, position, value):\n",
    "        self._cards[position] = value\n",
    "        \n",
    "    def __delitem__(self, position):\n",
    "        del self._cards[position]\n",
    "        \n",
    "    def insert(self, position, value):\n",
    "        self._cards.insert(position, value)\n",
    "        "
   ]
  },
  {
   "cell_type": "markdown",
   "metadata": {},
   "source": [
    "## ABCs in the Standard Library\n",
    "\n",
    "The most widely used ABCs are in `collections.abc`\n",
    "\n",
    "![collections.abc](./img/2023-10-04-10-54-00.png)\n",
    "\n",
    "- `Iterable` supports iteration with `__iter__`\n",
    "- `Container` supports `in` and `not in` operators with `__contains__`\n",
    "- `Sized` supports `len()` with `__len__`\n",
    "- `Collection` is the subclass of `Iterable`, `Container`, and `Sized`, has no methods of its own\n",
    "- `Sequence` supports indexing with `__getitem__`\n",
    "- `MutableSequence` is a `Sequence` that can be modified\n",
    "- `Mapping` supports `[]` with `__getitem__` \n",
    "- `MutableMapping` is a `Mapping` that can be modified\n",
    "- `Set` supports `in` and `not in` operators with `__contains__` and `len()` with `__len__`\n",
    "- `MutableSet` is a `Set` that can be modified\n",
    "- `MappingView` objects returned from the mapping methods `keys()`, `items()`, and `values()` implement the interfaces `ItemsView`, `KeysView`, and `ValuesView`, respectively. The first two also implement the rich interface of `Set`\n",
    "- `Iterator` subclasses `Iterable`, supports `next()` with `__next__`\n",
    "- `Callable` supports `()` with `__call__`.  `Hashable` supports `hash()` with `__hash__`. These are not collections, but these two were deemed important enough to be included in `collections.abc`"
   ]
  },
  {
   "cell_type": "markdown",
   "metadata": {},
   "source": [
    "## Defining and Using an ABC\n",
    "\n",
    "> ABCs, like descriptors and metaclasses, are tools for building frameworks. Therefore, only a small minority of Python developers can create ABCs without imposing unreasonable limitations and needles work on fellow programmers."
   ]
  },
  {
   "cell_type": "markdown",
   "metadata": {},
   "source": [
    "![an ABC and three subclasses](./img/2023-10-04-14-35-12.png)"
   ]
  },
  {
   "cell_type": "code",
   "execution_count": 15,
   "metadata": {},
   "outputs": [],
   "source": [
    "import abc\n",
    "\n",
    "class Tombola(abc.ABC):\n",
    "    \n",
    "    @abc.abstractmethod\n",
    "    def load(self, iterable):\n",
    "        \"\"\"Add items from an iterable.\"\"\"\n",
    "        \n",
    "    @abc.abstractmethod\n",
    "    def pick(self):\n",
    "        \"\"\"Remove item at random, returning it.\n",
    "        This method should raise `LookupError` when the instance is empty.\n",
    "        \"\"\"\n",
    "        \n",
    "    def loaded(self):\n",
    "        \"\"\"Return `True` if there's at least 1 item, `False` otherwise.\"\"\"\n",
    "        return bool(self.inspect())\n",
    "    \n",
    "    def inspect(self):\n",
    "        \"\"\"Return a sorted tuple with the items currently inside.\"\"\"\n",
    "        items = []\n",
    "        while True:\n",
    "            try:\n",
    "                items.append(self.pick())\n",
    "            except LookupError:\n",
    "                break\n",
    "                \n",
    "        self.load(items)\n",
    "        return tuple(items)"
   ]
  },
  {
   "cell_type": "markdown",
   "metadata": {},
   "source": [
    "![Part of the Exception class hierarchy](./img/2023-10-04-14-51-39.png)\n",
    "\n",
    "[Complete Python Exception hierarchy](https://docs.python.org/release/3.10.13/library/exceptions.html#exception-hierarchy)"
   ]
  },
  {
   "cell_type": "code",
   "execution_count": null,
   "metadata": {},
   "outputs": [],
   "source": [
    "class Fake(Tombola):\n",
    "    def pick(self):\n",
    "        return 13"
   ]
  },
  {
   "cell_type": "code",
   "execution_count": null,
   "metadata": {},
   "outputs": [
    {
     "data": {
      "text/plain": [
       "__main__.Fake"
      ]
     },
     "execution_count": 7,
     "metadata": {},
     "output_type": "execute_result"
    }
   ],
   "source": [
    "Fake"
   ]
  },
  {
   "cell_type": "code",
   "execution_count": null,
   "metadata": {},
   "outputs": [
    {
     "ename": "TypeError",
     "evalue": "Can't instantiate abstract class Fake with abstract method load",
     "output_type": "error",
     "traceback": [
      "\u001b[1;31m---------------------------------------------------------------------------\u001b[0m",
      "\u001b[1;31mTypeError\u001b[0m                                 Traceback (most recent call last)",
      "\u001b[1;32md:\\workspaces\\example-code-2e\\13-protocol-abc\\my-sample\\13-protocol-abc.ipynb Cell 26\u001b[0m line \u001b[0;36m<cell line: 1>\u001b[1;34m()\u001b[0m\n\u001b[1;32m----> <a href='vscode-notebook-cell:/d%3A/workspaces/example-code-2e/13-protocol-abc/my-sample/13-protocol-abc.ipynb#X34sZmlsZQ%3D%3D?line=0'>1</a>\u001b[0m f \u001b[39m=\u001b[39m Fake()\n",
      "\u001b[1;31mTypeError\u001b[0m: Can't instantiate abstract class Fake with abstract method load"
     ]
    }
   ],
   "source": [
    "f = Fake()"
   ]
  },
  {
   "cell_type": "markdown",
   "metadata": {},
   "source": [
    "## ABC Syntax Details\n",
    "\n"
   ]
  },
  {
   "cell_type": "code",
   "execution_count": null,
   "metadata": {},
   "outputs": [],
   "source": [
    "import random\n",
    "\n",
    "class BingoCage(Tombola):\n",
    "    \n",
    "    def __init__(self, items):        \n",
    "        self._randomizer = random.SystemRandom()\n",
    "        self._items = []\n",
    "        self.load(items)\n",
    "        \n",
    "    def load(self, items):\n",
    "        self._items.extend(items)\n",
    "        self._randomizer.shuffle(self._items)\n",
    "        \n",
    "    def pick(self):\n",
    "        try:\n",
    "            return self._items.pop()\n",
    "        except IndexError:\n",
    "            raise LookupError('pick from empty BingoCage')\n",
    "        \n",
    "    def __call__(self):\n",
    "        self.pick()\n",
    "        "
   ]
  },
  {
   "cell_type": "markdown",
   "metadata": {},
   "source": [
    "- Pretend we'll use this for online gaming. `random.SystemRandom` implements the `random` API on top of the `os.urandom(...)` function, which providesrandom bytes \"suitable for cryptographic use\", according to the [os model docs](https://docs.python.org/3/library/os.html#os.urandom)."
   ]
  },
  {
   "cell_type": "code",
   "execution_count": null,
   "metadata": {},
   "outputs": [],
   "source": [
    "import random\n",
    "\n",
    "class LottoBlower(Tombola):\n",
    "    \n",
    "    def __init__(self, iterable):\n",
    "        self._balls = list(iterable)\n",
    "    \n",
    "    def load(self, iterable):\n",
    "        self._balls.extend(iterable)\n",
    "        \n",
    "    def pick(self):\n",
    "        try:\n",
    "            position = random.randrange(len(self._balls))\n",
    "        except ValueError:\n",
    "            raise LookupError('pick from empty LottoBlower')\n",
    "        return self._balls.pop(position)\n",
    "    \n",
    "    def loaded(self):\n",
    "        return bool(self._balls)\n",
    "    \n",
    "    def inspect(self):\n",
    "        return tuple(self._balls)"
   ]
  },
  {
   "cell_type": "markdown",
   "metadata": {},
   "source": [
    "## A Virtual Subclass of an ABC\n",
    "\n",
    "![TomboList](./img/2023-10-04-18-56-24.png)"
   ]
  },
  {
   "cell_type": "code",
   "execution_count": 41,
   "metadata": {},
   "outputs": [],
   "source": [
    "from random import randrange\n",
    "\n",
    "@Tombola.register\n",
    "class TomboList(list):\n",
    "    \n",
    "    def pick(self):\n",
    "        if self:\n",
    "            position = randrange(len(self))\n",
    "            return self.pop(position)\n",
    "        else:\n",
    "            raise LookupError('pop from empty TomboList')\n",
    "            \n",
    "    load = list.extend\n",
    "    \n",
    "    def loaded(self):\n",
    "        return bool(self)\n",
    "    \n",
    "    def inspect(self):\n",
    "        return tuple(self)"
   ]
  },
  {
   "cell_type": "markdown",
   "metadata": {},
   "source": [
    "- `TomboList` is registered as a virtual subclass of `Tombola`, `TomboList` doesn't need implement all abstract methods in `Tombola`, but we'll be caught usual runtime errors if these methods are called.\n",
    "- `TomboList` extends list.\n",
    "- `TomboList` inherits boolean behavior from `list`, and returns `True` if list is not empty.\n",
    "- Our `pick` calls `self.pop`, inherited from `list`, passing a random index.\n",
    "- `TomboList.load` is the same as `list.extend`.\n",
    "- `loaded` delegates to `bool(self)`, which is inherited from `list`.\n",
    "- It's always possible to call `register` in this way: `Tombola.register(TomboList)`, but it's only useful to do so when you need to register a class that you do not maintain, but which fulfill the interface."
   ]
  },
  {
   "cell_type": "code",
   "execution_count": 31,
   "metadata": {},
   "outputs": [
    {
     "data": {
      "text/plain": [
       "True"
      ]
     },
     "execution_count": 31,
     "metadata": {},
     "output_type": "execute_result"
    }
   ],
   "source": [
    "issubclass(TomboList, Tombola)"
   ]
  },
  {
   "cell_type": "code",
   "execution_count": 42,
   "metadata": {},
   "outputs": [
    {
     "data": {
      "text/plain": [
       "True"
      ]
     },
     "execution_count": 42,
     "metadata": {},
     "output_type": "execute_result"
    }
   ],
   "source": [
    "t = TomboList(range(100))\n",
    "isinstance(t, Tombola)"
   ]
  },
  {
   "cell_type": "code",
   "execution_count": 34,
   "metadata": {},
   "outputs": [
    {
     "data": {
      "text/plain": [
       "True"
      ]
     },
     "execution_count": 34,
     "metadata": {},
     "output_type": "execute_result"
    }
   ],
   "source": [
    "issubclass(TomboList, list)"
   ]
  },
  {
   "cell_type": "code",
   "execution_count": 47,
   "metadata": {},
   "outputs": [
    {
     "name": "stdout",
     "output_type": "stream",
     "text": [
      "53\n",
      "None\n"
     ]
    }
   ],
   "source": [
    "print(t.pick())\n",
    "print(t.load([200]))"
   ]
  },
  {
   "cell_type": "code",
   "execution_count": 48,
   "metadata": {},
   "outputs": [
    {
     "data": {
      "text/plain": [
       "(__main__.TomboList, list, object)"
      ]
     },
     "execution_count": 48,
     "metadata": {},
     "output_type": "execute_result"
    }
   ],
   "source": [
    "TomboList.__mro__"
   ]
  },
  {
   "cell_type": "markdown",
   "metadata": {},
   "source": [
    "## Structural Typing with ABCs\n"
   ]
  },
  {
   "cell_type": "code",
   "execution_count": 52,
   "metadata": {},
   "outputs": [
    {
     "name": "stdout",
     "output_type": "stream",
     "text": [
      "True\n",
      "True\n"
     ]
    }
   ],
   "source": [
    "class Struggle:\n",
    "    def __len__(self): return 23\n",
    "\n",
    "from collections import abc\n",
    "print(isinstance(Struggle(), abc.Sized))\n",
    "\n",
    "# because abc.Sized implements __subclasshook__\n",
    "print(issubclass(Struggle, abc.Sized))"
   ]
  },
  {
   "cell_type": "markdown",
   "metadata": {},
   "source": [
    "The `__subclasshook__` for `Sized` checks whether the class argument has an attribute named `__len__`."
   ]
  },
  {
   "cell_type": "code",
   "execution_count": 54,
   "metadata": {},
   "outputs": [],
   "source": [
    "from abc import ABCMeta, abstractmethod\n",
    "\n",
    "class Sized(metaclass=ABCMeta):\n",
    "    \n",
    "    __slots__ = ()\n",
    "    \n",
    "    @abstractmethod\n",
    "    def __len__(self):\n",
    "        return 0\n",
    "    \n",
    "    @classmethod\n",
    "    def __subclasshook__(cls, C):\n",
    "        if cls is Sized:\n",
    "            if any('__len__' in B.__dict__ for B in C.__mro__):\n",
    "                return True\n",
    "        return NotImplemented"
   ]
  },
  {
   "cell_type": "markdown",
   "metadata": {},
   "source": [
    "## Static Protocols\n",
    "\n",
    "### The Typed double Function"
   ]
  },
  {
   "cell_type": "code",
   "execution_count": 55,
   "metadata": {},
   "outputs": [
    {
     "name": "stdout",
     "output_type": "stream",
     "text": [
      "3.0\n",
      "[1, 2, 3, 1, 2, 3]\n",
      "abcabc\n",
      "4/5\n"
     ]
    }
   ],
   "source": [
    "def double(x):\n",
    "    return x * 2\n",
    "\n",
    "print(double(1.5))\n",
    "print(double([1, 2, 3]))\n",
    "print(double(\"abc\"))\n",
    "\n",
    "from fractions import Fraction\n",
    "print(double(Fraction(2, 5)))"
   ]
  },
  {
   "cell_type": "code",
   "execution_count": 76,
   "metadata": {},
   "outputs": [],
   "source": [
    "from typing import TypeVar, Protocol\n",
    "\n",
    "T = TypeVar('T') # 1\n",
    "\n",
    "class Repeatable(Protocol):\n",
    "    def __mul__(self: T, repeat_count: int) -> T: # 2\n",
    "        ...\n",
    "    \n",
    "RT = TypeVar('RT', bound='Repeatable') # 3\n",
    "    \n",
    "def double(x: RT) -> RT: # 4\n",
    "    return x * 2"
   ]
  },
  {
   "cell_type": "markdown",
   "metadata": {},
   "source": [
    "1. We'll use this `T` in the `__mul__` signature.\n",
    "2. `__mul__` is the essence of the `Repeatable` protocol. The `self` parameter is usually not annotated--its type is assumed to be the class. Here we use `T` to make sure the result type is the same as the type of `self`. Also, note that `repeat_count` is limited to `int` in this protocol.\n",
    "3. The `RT` type variable is bounded by the `Repeatable` protocol: the type checker will require that the actual type implements `Repeatable`.\n",
    "4. Now the type checker ia able to verify that the `x` parameter is an object that can be multiplied by an integer, and the return value has the same type as `x`.   "
   ]
  },
  {
   "cell_type": "code",
   "execution_count": 77,
   "metadata": {},
   "outputs": [
    {
     "name": "stdout",
     "output_type": "stream",
     "text": [
      "3.0\n",
      "[1, 2, 3, 1, 2, 3]\n",
      "abcabc\n",
      "4/5\n"
     ]
    }
   ],
   "source": [
    "print(double(1.5))\n",
    "print(double([1, 2, 3]))\n",
    "print(double(\"abc\"))\n",
    "\n",
    "from fractions import Fraction\n",
    "print(double(Fraction(2, 5)))"
   ]
  },
  {
   "cell_type": "code",
   "execution_count": 79,
   "metadata": {},
   "outputs": [
    {
     "name": "stdout",
     "output_type": "stream",
     "text": [
      "HelloHello\n"
     ]
    }
   ],
   "source": [
    "# Create a custom class that adheres to the Repeatable protocol\n",
    "class MyRepeatableClass:\n",
    "    def __init__(self, name: str):\n",
    "        self.name = name\n",
    "\n",
    "    def __mul__(self, repeat_count: int) -> 'MyRepeatableClass':\n",
    "        return MyRepeatableClass(self.name * repeat_count)\n",
    "        \n",
    "\n",
    "# Create an object of your custom class\n",
    "obj = MyRepeatableClass('Hello')\n",
    "\n",
    "# Call the double function and pass the object as an argument\n",
    "result = double(obj)\n",
    "\n",
    "# Print the result\n",
    "print(result.name)"
   ]
  },
  {
   "cell_type": "markdown",
   "metadata": {},
   "source": [
    "### Runtime Checkable Static Protocols\n",
    "\n",
    "The following protocols are provided by the typing module. All are decorated with `@runtime_checkable.`\n",
    "\n",
    "- class `typing.SupportsAbs`: An ABC with one abstract method `__abs__` that is covariant in its return type.\n",
    "- class `typing.SupportsBytes`: An ABC with one abstract method `__bytes__`.\n",
    "- class `typing.SupportsComplex`: An ABC with one abstract method `__complex__`.\n",
    "- class `typing.SupportsFloat`: An ABC with one abstract method _`_float__`.\n",
    "- class `typing.SupportsIndex`: An ABC with one abstract method `__index__`.\n",
    "\n",
    "New in version 3.8.\n",
    "- class `typing.SupportsInt`: An ABC with one abstract method `__int__`.\n",
    "- class `typing.SupportsRound`: An ABC with one abstract method `__round__` that is covariant in its return type."
   ]
  },
  {
   "cell_type": "code",
   "execution_count": 83,
   "metadata": {},
   "outputs": [
    {
     "name": "stdout",
     "output_type": "stream",
     "text": [
      "(10+2j)\n",
      "False\n",
      "True\n",
      "(10+2j)\n",
      "False\n",
      "(10+2j)\n",
      "['__abs__', '__add__', '__bool__', '__class__', '__delattr__', '__dir__', '__doc__', '__eq__', '__format__', '__ge__', '__getattribute__', '__getnewargs__', '__gt__', '__hash__', '__init__', '__init_subclass__', '__le__', '__lt__', '__mul__', '__ne__', '__neg__', '__new__', '__pos__', '__pow__', '__radd__', '__reduce__', '__reduce_ex__', '__repr__', '__rmul__', '__rpow__', '__rsub__', '__rtruediv__', '__setattr__', '__sizeof__', '__str__', '__sub__', '__subclasshook__', '__truediv__', 'conjugate', 'imag', 'real']\n"
     ]
    }
   ],
   "source": [
    "from typing import SupportsComplex\n",
    "import numpy as np\n",
    "\n",
    "c64 = np.complex64(10 + 2j) # 1\n",
    "print(c64)\n",
    "print(isinstance(c64, complex)) # 2\n",
    "print(isinstance(c64, SupportsComplex)) # 3\n",
    "c = complex(c64) # 4\n",
    "print(c)\n",
    "print(isinstance(c, SupportsComplex)) # 5\n",
    "print(complex(c))\n",
    "print(dir(c))"
   ]
  },
  {
   "cell_type": "markdown",
   "metadata": {},
   "source": [
    "1. `complex64` is one of the five complex number types provided by `NumPy`.\n",
    "2. None of the NumPy complex types subclass the built-in `complex`.\n",
    "3. But NumPy's complex types implements `__complex__`, so they comply with the `SupportsComplex` protocol.\n",
    "4. Therefore, you can create built-in `complex` objects from NumPy complex numbers.\n",
    "5. Sadly, the `complex` built-in type does not implement `__complex__`, although `complex(c)` works fine if `c` is a `complex`."
   ]
  },
  {
   "cell_type": "code",
   "execution_count": 84,
   "metadata": {},
   "outputs": [
    {
     "data": {
      "text/plain": [
       "True"
      ]
     },
     "execution_count": 84,
     "metadata": {},
     "output_type": "execute_result"
    }
   ],
   "source": [
    "# if you want to test an object c is a complex or SupportsComplex, \n",
    "# you can provide a tuple of types as the second argument to isinstance\n",
    "isinstance(c, (complex, SupportsComplex))"
   ]
  },
  {
   "cell_type": "markdown",
   "metadata": {},
   "source": [
    "The built-in `complex` type and the NumPy `complex64` and `complex128` types are all registered as virtual subclasses of `numbers.Complex`.\n",
    "\n",
    "The `numbers` ABCs are not recommended now, because they are not recognized by the static type checkers."
   ]
  },
  {
   "cell_type": "code",
   "execution_count": 87,
   "metadata": {},
   "outputs": [
    {
     "name": "stdout",
     "output_type": "stream",
     "text": [
      "True\n",
      "True\n"
     ]
    }
   ],
   "source": [
    "import numbers\n",
    "print(isinstance(c, numbers.Complex))\n",
    "print(isinstance(c64, numbers.Complex))"
   ]
  },
  {
   "cell_type": "markdown",
   "metadata": {},
   "source": [
    "## Limitations of Runtime Protocol Checks"
   ]
  },
  {
   "cell_type": "code",
   "execution_count": 91,
   "metadata": {},
   "outputs": [
    {
     "name": "stdout",
     "output_type": "stream",
     "text": [
      "3.10.6 (tags/v3.10.6:9c7b4bd, Aug  1 2022, 21:53:49) [MSC v.1932 64 bit (AMD64)]\n"
     ]
    },
    {
     "ename": "AttributeError",
     "evalue": "'complex' object has no attribute '__float__'",
     "output_type": "error",
     "traceback": [
      "\u001b[1;31m---------------------------------------------------------------------------\u001b[0m",
      "\u001b[1;31mAttributeError\u001b[0m                            Traceback (most recent call last)",
      "\u001b[1;32md:\\workspaces\\example-code-2e\\13-protocol-abc\\my-sample\\13-protocol-abc.ipynb Cell 56\u001b[0m line \u001b[0;36m<cell line: 4>\u001b[1;34m()\u001b[0m\n\u001b[0;32m      <a href='vscode-notebook-cell:/d%3A/workspaces/example-code-2e/13-protocol-abc/my-sample/13-protocol-abc.ipynb#Y112sZmlsZQ%3D%3D?line=1'>2</a>\u001b[0m \u001b[39mprint\u001b[39m(sys\u001b[39m.\u001b[39mversion)\n\u001b[0;32m      <a href='vscode-notebook-cell:/d%3A/workspaces/example-code-2e/13-protocol-abc/my-sample/13-protocol-abc.ipynb#Y112sZmlsZQ%3D%3D?line=2'>3</a>\u001b[0m c \u001b[39m=\u001b[39m  \u001b[39m3\u001b[39m \u001b[39m+\u001b[39m \u001b[39m4\u001b[39mj\n\u001b[1;32m----> <a href='vscode-notebook-cell:/d%3A/workspaces/example-code-2e/13-protocol-abc/my-sample/13-protocol-abc.ipynb#Y112sZmlsZQ%3D%3D?line=3'>4</a>\u001b[0m \u001b[39mprint\u001b[39m(c\u001b[39m.\u001b[39;49m\u001b[39m__float__\u001b[39;49m)\n\u001b[0;32m      <a href='vscode-notebook-cell:/d%3A/workspaces/example-code-2e/13-protocol-abc/my-sample/13-protocol-abc.ipynb#Y112sZmlsZQ%3D%3D?line=4'>5</a>\u001b[0m \u001b[39mprint\u001b[39m(c\u001b[39m.\u001b[39m\u001b[39m__float__\u001b[39m())\n",
      "\u001b[1;31mAttributeError\u001b[0m: 'complex' object has no attribute '__float__'"
     ]
    }
   ],
   "source": [
    "import sys\n",
    "print(sys.version)\n",
    "c =  3 + 4j\n",
    "print(c.__float__)\n",
    "print(c.__float__())"
   ]
  },
  {
   "cell_type": "code",
   "execution_count": 94,
   "metadata": {},
   "outputs": [
    {
     "name": "stdout",
     "output_type": "stream",
     "text": [
      "False\n",
      "False\n"
     ]
    }
   ],
   "source": [
    "from typing import SupportsFloat\n",
    "print(isinstance(c, SupportsFloat))\n",
    "print(issubclass(complex, SupportsFloat))"
   ]
  },
  {
   "cell_type": "markdown",
   "metadata": {},
   "source": [
    "## Designing a Static Protocol"
   ]
  },
  {
   "cell_type": "code",
   "execution_count": 105,
   "metadata": {},
   "outputs": [],
   "source": [
    "from typing import Protocol, runtime_checkable, Any\n",
    "\n",
    "@runtime_checkable\n",
    "class RandomPicker(Protocol):\n",
    "    def pick(self) -> Any:\n",
    "        ..."
   ]
  },
  {
   "cell_type": "code",
   "execution_count": 96,
   "metadata": {},
   "outputs": [],
   "source": [
    "import random\n",
    "from typing import Any, Iterable, TYPE_CHECKING\n",
    "\n",
    "class SimplePicker:\n",
    "    def __init__(self, items: Iterable) -> None:\n",
    "        self._items = list(items)\n",
    "        random.shuffle(self._items)\n",
    "        \n",
    "    def pick(self) -> Any:\n",
    "        return self._items.pop()\n",
    "    \n",
    "def test_isinstance() -> None:\n",
    "    popper: RandomPicker = SimplePicker([1])\n",
    "    assert isinstance(popper, RandomPicker)\n",
    "    \n",
    "def test_item_type() -> None:\n",
    "    items = [1, 2]\n",
    "    popper = SimplePicker(items)\n",
    "    item = popper.pick()\n",
    "    assert item in items\n",
    "    if TYPE_CHECKING:\n",
    "        reveal_type(item)\n",
    "    assert isinstance(item, int)   "
   ]
  },
  {
   "cell_type": "code",
   "execution_count": 99,
   "metadata": {},
   "outputs": [],
   "source": [
    "test_isinstance()\n",
    "test_item_type()"
   ]
  },
  {
   "cell_type": "code",
   "execution_count": 106,
   "metadata": {},
   "outputs": [
    {
     "ename": "AssertionError",
     "evalue": "",
     "output_type": "error",
     "traceback": [
      "\u001b[1;31m---------------------------------------------------------------------------\u001b[0m",
      "\u001b[1;31mAssertionError\u001b[0m                            Traceback (most recent call last)",
      "\u001b[1;32md:\\workspaces\\example-code-2e\\13-protocol-abc\\my-sample\\13-protocol-abc.ipynb Cell 62\u001b[0m line \u001b[0;36m<cell line: 13>\u001b[1;34m()\u001b[0m\n\u001b[0;32m     <a href='vscode-notebook-cell:/d%3A/workspaces/example-code-2e/13-protocol-abc/my-sample/13-protocol-abc.ipynb#Y122sZmlsZQ%3D%3D?line=9'>10</a>\u001b[0m     popper: RandomPicker \u001b[39m=\u001b[39m SimplePicker2([\u001b[39m1\u001b[39m])\n\u001b[0;32m     <a href='vscode-notebook-cell:/d%3A/workspaces/example-code-2e/13-protocol-abc/my-sample/13-protocol-abc.ipynb#Y122sZmlsZQ%3D%3D?line=10'>11</a>\u001b[0m     \u001b[39massert\u001b[39;00m \u001b[39misinstance\u001b[39m(popper, RandomPicker)\n\u001b[1;32m---> <a href='vscode-notebook-cell:/d%3A/workspaces/example-code-2e/13-protocol-abc/my-sample/13-protocol-abc.ipynb#Y122sZmlsZQ%3D%3D?line=12'>13</a>\u001b[0m test_isinstance2()\n",
      "\u001b[1;32md:\\workspaces\\example-code-2e\\13-protocol-abc\\my-sample\\13-protocol-abc.ipynb Cell 62\u001b[0m line \u001b[0;36mtest_isinstance2\u001b[1;34m()\u001b[0m\n\u001b[0;32m      <a href='vscode-notebook-cell:/d%3A/workspaces/example-code-2e/13-protocol-abc/my-sample/13-protocol-abc.ipynb#Y122sZmlsZQ%3D%3D?line=8'>9</a>\u001b[0m \u001b[39mdef\u001b[39;00m \u001b[39mtest_isinstance2\u001b[39m() \u001b[39m-\u001b[39m\u001b[39m>\u001b[39m \u001b[39mNone\u001b[39;00m:\n\u001b[0;32m     <a href='vscode-notebook-cell:/d%3A/workspaces/example-code-2e/13-protocol-abc/my-sample/13-protocol-abc.ipynb#Y122sZmlsZQ%3D%3D?line=9'>10</a>\u001b[0m     popper: RandomPicker \u001b[39m=\u001b[39m SimplePicker2([\u001b[39m1\u001b[39m])\n\u001b[1;32m---> <a href='vscode-notebook-cell:/d%3A/workspaces/example-code-2e/13-protocol-abc/my-sample/13-protocol-abc.ipynb#Y122sZmlsZQ%3D%3D?line=10'>11</a>\u001b[0m     \u001b[39massert\u001b[39;00m \u001b[39misinstance\u001b[39m(popper, RandomPicker)\n",
      "\u001b[1;31mAssertionError\u001b[0m: "
     ]
    }
   ],
   "source": [
    "import random\n",
    "from typing import Any, Iterable, TYPE_CHECKING\n",
    "\n",
    "class SimplePicker2:\n",
    "    def __init__(self, items: Iterable) -> None:\n",
    "        self._items = list(items)\n",
    "        random.shuffle(self._items)\n",
    "\n",
    "def test_isinstance2() -> None:\n",
    "    popper: RandomPicker = SimplePicker2([1])\n",
    "    # The protocol of pick method is not implemented by SimplePicker2\n",
    "    # cause the AssertionError.\n",
    "    assert isinstance(popper, RandomPicker)\n",
    "\n",
    "test_isinstance2()"
   ]
  },
  {
   "cell_type": "markdown",
   "metadata": {},
   "source": [
    "## The numbers ABCs and Numeric Protocols"
   ]
  },
  {
   "cell_type": "code",
   "execution_count": 116,
   "metadata": {},
   "outputs": [
    {
     "name": "stdout",
     "output_type": "stream",
     "text": [
      "0.3000000000000000000010002003\n",
      "0.30000000000000004\n"
     ]
    }
   ],
   "source": [
    "from decimal import Decimal\n",
    "\n",
    "# Decimal precision\n",
    "decimal_num = Decimal('0.1000000000000000000000002') + Decimal('0.100000000000000000001') + Decimal('0.1000000000000000000000000003')\n",
    "print(decimal_num)  # Output: 0.3\n",
    "\n",
    "# Float precision\n",
    "float_num = 0.1 + 0.1 + 0.1\n",
    "print(float_num)  # Output: 0.30000000000000004"
   ]
  },
  {
   "cell_type": "code",
   "execution_count": 133,
   "metadata": {},
   "outputs": [
    {
     "name": "stdout",
     "output_type": "stream",
     "text": [
      "999999999999999999\n",
      "1.23456789000000000000000000000000000000111222333444\n"
     ]
    }
   ],
   "source": [
    "from decimal import Decimal, Context, MAX_PREC\n",
    "\n",
    "print(MAX_PREC)\n",
    "# Define the precision/scale\n",
    "precision = 1\n",
    "\n",
    "# Create a custom context with the desired precision\n",
    "custom_context = Context(prec=precision)\n",
    "decimal_num = Decimal('1.23456789000000000000000000000000000000111222333444', context=custom_context)\n",
    "print(decimal_num) "
   ]
  },
  {
   "cell_type": "markdown",
   "metadata": {},
   "source": [
    "The main takeaways for this section are:\n",
    "\n",
    "- The `numbers` ABCs are fine for runtime type checking, but they are not recognized by the static type checkers.\n",
    "- The numeric static protocols `SupportsComplex`, `SupportsFloat`, etc. work well for static typing, but are unreliable for runtime type checking when complex numbers are involved."
   ]
  }
 ],
 "metadata": {
  "kernelspec": {
   "display_name": "Python 3",
   "language": "python",
   "name": "python3"
  },
  "language_info": {
   "codemirror_mode": {
    "name": "ipython",
    "version": 3
   },
   "file_extension": ".py",
   "mimetype": "text/x-python",
   "name": "python",
   "nbconvert_exporter": "python",
   "pygments_lexer": "ipython3",
   "version": "3.10.6"
  },
  "orig_nbformat": 4
 },
 "nbformat": 4,
 "nbformat_minor": 2
}
