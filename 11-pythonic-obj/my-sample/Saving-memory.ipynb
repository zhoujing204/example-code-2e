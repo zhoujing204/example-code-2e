{
 "cells": [
  {
   "cell_type": "markdown",
   "metadata": {},
   "source": [
    "# Saving Memory with __slots__"
   ]
  },
  {
   "cell_type": "markdown",
   "metadata": {},
   "source": [
    "- `__slots__` must be present when the class is created; adding or changing it later has no effect. \n",
    "- The attribute names may be in a tuple or list, prefer a tuple to make it clear there is no point in changing it.\n",
    "- First effect: instances of Pixel have no `__dict__`\n",
    "- Second effect: trying to set an attribute not listed in `__slots__` raises `AttributeError`"
   ]
  },
  {
   "cell_type": "code",
   "execution_count": 12,
   "metadata": {},
   "outputs": [
    {
     "ename": "AttributeError",
     "evalue": "'Pixel' object has no attribute '__dict__'",
     "output_type": "error",
     "traceback": [
      "\u001b[1;31m---------------------------------------------------------------------------\u001b[0m",
      "\u001b[1;31mAttributeError\u001b[0m                            Traceback (most recent call last)",
      "\u001b[1;32md:\\workspace\\example-code-2e\\11-pythonic-obj\\my-sample\\Saving-memory.ipynb Cell 3\u001b[0m line \u001b[0;36m6\n\u001b[0;32m      <a href='vscode-notebook-cell:/d%3A/workspace/example-code-2e/11-pythonic-obj/my-sample/Saving-memory.ipynb#W2sZmlsZQ%3D%3D?line=2'>3</a>\u001b[0m     \u001b[39m# __slots__ = ('x', 'y')\u001b[39;00m\n\u001b[0;32m      <a href='vscode-notebook-cell:/d%3A/workspace/example-code-2e/11-pythonic-obj/my-sample/Saving-memory.ipynb#W2sZmlsZQ%3D%3D?line=4'>5</a>\u001b[0m p \u001b[39m=\u001b[39m Pixel()\n\u001b[1;32m----> <a href='vscode-notebook-cell:/d%3A/workspace/example-code-2e/11-pythonic-obj/my-sample/Saving-memory.ipynb#W2sZmlsZQ%3D%3D?line=5'>6</a>\u001b[0m p\u001b[39m.\u001b[39;49m\u001b[39m__dict__\u001b[39;49m\n",
      "\u001b[1;31mAttributeError\u001b[0m: 'Pixel' object has no attribute '__dict__'"
     ]
    }
   ],
   "source": [
    "class Pixel:\n",
    "    # __slots__ = ('x')\n",
    "    __slots__ = ('x', 'y')\n",
    "    \n",
    "p = Pixel()\n",
    "p.__dict__"
   ]
  },
  {
   "cell_type": "code",
   "execution_count": null,
   "metadata": {},
   "outputs": [
    {
     "name": "stdout",
     "output_type": "stream",
     "text": [
      "<__main__.Pixel object at 0x00000220EA6FBA00>\n"
     ]
    }
   ],
   "source": [
    "p.x = 10\n",
    "p.y = 20\n",
    "print(p)\n",
    "p.x = 30\n",
    "p.y = 40"
   ]
  },
  {
   "cell_type": "markdown",
   "metadata": {},
   "source": [
    "- `OpenPixel` inherit `Pixel` class and declares no attribute of its own.\n",
    "- instance of `OpenPixel` have a `__dict__`\n",
    "- If you set attribute x that is inherited from father class, it is not stored in the `__dict__`, it is stored in the hidden array of references in the instance.\n",
    "- If you set an attribute not named in the `__slots__`, it is stored in the instance of `__dict__`."
   ]
  },
  {
   "cell_type": "code",
   "execution_count": null,
   "metadata": {},
   "outputs": [
    {
     "data": {
      "text/plain": [
       "{}"
      ]
     },
     "execution_count": 7,
     "metadata": {},
     "output_type": "execute_result"
    }
   ],
   "source": [
    "class OpenPixel(Pixel):\n",
    "    pass\n",
    "\n",
    "op = OpenPixel()\n",
    "op.__dict__"
   ]
  },
  {
   "cell_type": "code",
   "execution_count": null,
   "metadata": {},
   "outputs": [
    {
     "data": {
      "text/plain": [
       "{}"
      ]
     },
     "execution_count": 8,
     "metadata": {},
     "output_type": "execute_result"
    }
   ],
   "source": [
    "op.x = 8\n",
    "op.__dict__"
   ]
  },
  {
   "cell_type": "code",
   "execution_count": null,
   "metadata": {},
   "outputs": [
    {
     "data": {
      "text/plain": [
       "{'color': 'green'}"
      ]
     },
     "execution_count": 9,
     "metadata": {},
     "output_type": "execute_result"
    }
   ],
   "source": [
    "op.color = 'green'\n",
    "op.__dict__"
   ]
  },
  {
   "cell_type": "markdown",
   "metadata": {},
   "source": [
    "- Essentially, `__slots__` of the superclasses are added to the `__slots__` of the current class. \n",
    "- ColorPixel instances have no `__dict__`.\n",
    "- You can only set attributes declared in the `__slots__` of the class and superclasses.\n",
    "- If you include `__dict__` in the `__slots`, you can add any attributes."
   ]
  },
  {
   "cell_type": "code",
   "execution_count": 13,
   "metadata": {},
   "outputs": [
    {
     "data": {
      "text/plain": [
       "{}"
      ]
     },
     "execution_count": 13,
     "metadata": {},
     "output_type": "execute_result"
    }
   ],
   "source": [
    "class ColorPixel(Pixel):\n",
    "    __slots__ = ('color', '__dict__' )\n",
    "    \n",
    "cp = ColorPixel()\n",
    "cp.__dict__"
   ]
  },
  {
   "cell_type": "code",
   "execution_count": 14,
   "metadata": {},
   "outputs": [
    {
     "name": "stdout",
     "output_type": "stream",
     "text": [
      "56\n"
     ]
    }
   ],
   "source": [
    "import sys\n",
    "print(sys.getsizeof(cp))"
   ]
  },
  {
   "cell_type": "code",
   "execution_count": 19,
   "metadata": {},
   "outputs": [
    {
     "name": "stdout",
     "output_type": "stream",
     "text": [
      "56\n"
     ]
    }
   ],
   "source": [
    "cp.x = 2\n",
    "cp.color = 'blue'\n",
    "print(sys.getsizeof(cp))"
   ]
  },
  {
   "cell_type": "code",
   "execution_count": 24,
   "metadata": {},
   "outputs": [
    {
     "data": {
      "text/plain": [
       "{'flavor': 'banana'}"
      ]
     },
     "execution_count": 24,
     "metadata": {},
     "output_type": "execute_result"
    }
   ],
   "source": [
    "cp.flavor = 'banana'\n",
    "cp.__dict__"
   ]
  }
 ],
 "metadata": {
  "kernelspec": {
   "display_name": "Python 3",
   "language": "python",
   "name": "python3"
  },
  "language_info": {
   "codemirror_mode": {
    "name": "ipython",
    "version": 3
   },
   "file_extension": ".py",
   "mimetype": "text/x-python",
   "name": "python",
   "nbconvert_exporter": "python",
   "pygments_lexer": "ipython3",
   "version": "3.10.6"
  },
  "orig_nbformat": 4
 },
 "nbformat": 4,
 "nbformat_minor": 2
}
