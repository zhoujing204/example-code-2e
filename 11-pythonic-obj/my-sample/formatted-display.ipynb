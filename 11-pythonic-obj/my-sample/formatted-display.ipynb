{
 "cells": [
  {
   "cell_type": "markdown",
   "metadata": {},
   "source": [
    "# Formatted Display"
   ]
  },
  {
   "cell_type": "code",
   "execution_count": 1,
   "metadata": {},
   "outputs": [
    {
     "data": {
      "text/plain": [
       "0.20746887966804978"
      ]
     },
     "execution_count": 1,
     "metadata": {},
     "output_type": "execute_result"
    }
   ],
   "source": [
    "brl = 1 / 4.82 # BRL to USD currency conversion rate\n",
    "brl"
   ]
  },
  {
   "cell_type": "code",
   "execution_count": 2,
   "metadata": {},
   "outputs": [
    {
     "data": {
      "text/plain": [
       "'0.2075'"
      ]
     },
     "execution_count": 2,
     "metadata": {},
     "output_type": "execute_result"
    }
   ],
   "source": [
    "format(brl, '0.4f')"
   ]
  },
  {
   "cell_type": "code",
   "execution_count": 5,
   "metadata": {},
   "outputs": [
    {
     "data": {
      "text/plain": [
       "'1 BRL = 0.21 USD'"
      ]
     },
     "execution_count": 5,
     "metadata": {},
     "output_type": "execute_result"
    }
   ],
   "source": [
    "'1 BRL = {rate:0.2f} USD'.format(rate=brl)"
   ]
  },
  {
   "cell_type": "markdown",
   "metadata": {},
   "source": [
    "## Align Modifiers"
   ]
  },
  {
   "cell_type": "markdown",
   "metadata": {},
   "source": [
    "Center-aligns the fields.\n",
    "Prefix to an align value – sets the character to fill the padding (if any)."
   ]
  },
  {
   "cell_type": "code",
   "execution_count": 15,
   "metadata": {},
   "outputs": [
    {
     "name": "stdout",
     "output_type": "stream",
     "text": [
      "@@@TEST@@@\n",
      "   TEST   \n",
      "~~~TEST~~~\n"
     ]
    }
   ],
   "source": [
    "print(\"{:@^10}\".format(\"TEST\"))\n",
    "print(\"{:^10}\".format(\"TEST\"))\n",
    "print(\"{:~^10}\".format(\"TEST\"))"
   ]
  },
  {
   "cell_type": "markdown",
   "metadata": {},
   "source": [
    "Left-aligns the fields."
   ]
  },
  {
   "cell_type": "code",
   "execution_count": 18,
   "metadata": {},
   "outputs": [
    {
     "name": "stdout",
     "output_type": "stream",
     "text": [
      "TEST~~~~~~\n",
      "TEST      \n",
      "TEST@@@@@@\n"
     ]
    }
   ],
   "source": [
    "print(\"{:~<10}\".format(\"TEST\"))\n",
    "print(\"{:<10}\".format(\"TEST\"))\n",
    "print(\"{:@<10}\".format(\"TEST\"))"
   ]
  },
  {
   "cell_type": "markdown",
   "metadata": {},
   "source": [
    "Right-aligns the fields."
   ]
  },
  {
   "cell_type": "code",
   "execution_count": 20,
   "metadata": {},
   "outputs": [
    {
     "name": "stdout",
     "output_type": "stream",
     "text": [
      "~~~~~~TEST\n",
      "      TEST\n",
      "@@@@@@TEST\n"
     ]
    }
   ],
   "source": [
    "print(\"{:~>10}\".format(\"TEST\"))\n",
    "print(\"{:>10}\".format(\"TEST\"))\n",
    "print(\"{:@>10}\".format(\"TEST\"))"
   ]
  },
  {
   "cell_type": "markdown",
   "metadata": {},
   "source": [
    "Right-aligns the field and forces padding to be placed after the sign."
   ]
  },
  {
   "cell_type": "code",
   "execution_count": 21,
   "metadata": {},
   "outputs": [
    {
     "name": "stdout",
     "output_type": "stream",
     "text": [
      "-~~~~~~~58\n",
      "-       58\n",
      "-$$$$$$$58\n"
     ]
    }
   ],
   "source": [
    "print(\"{:~=10}\".format(-58))\n",
    "print(\"{:=10}\".format(-58))\n",
    "print(\"{:$=10}\".format(-58))"
   ]
  },
  {
   "cell_type": "markdown",
   "metadata": {},
   "source": [
    "## Sign Modifiers"
   ]
  },
  {
   "cell_type": "markdown",
   "metadata": {},
   "source": [
    "Places a sign for both positive and negative numbers."
   ]
  },
  {
   "cell_type": "code",
   "execution_count": 23,
   "metadata": {},
   "outputs": [
    {
     "name": "stdout",
     "output_type": "stream",
     "text": [
      "+58,-58\n"
     ]
    }
   ],
   "source": [
    "print(\"{:+},{:+}\".format(58,-58))"
   ]
  },
  {
   "cell_type": "markdown",
   "metadata": {},
   "source": [
    "Places a sign for negative numbers only."
   ]
  },
  {
   "cell_type": "code",
   "execution_count": 24,
   "metadata": {},
   "outputs": [
    {
     "name": "stdout",
     "output_type": "stream",
     "text": [
      "58,-58\n"
     ]
    }
   ],
   "source": [
    "print(\"{:-},{:-}\".format(58,-58))"
   ]
  },
  {
   "cell_type": "markdown",
   "metadata": {},
   "source": [
    "Places a leading space before positive numbers and a sign before negative numbers."
   ]
  },
  {
   "cell_type": "code",
   "execution_count": 31,
   "metadata": {},
   "outputs": [
    {
     "name": "stdout",
     "output_type": "stream",
     "text": [
      " 58-58\n"
     ]
    }
   ],
   "source": [
    "# Doesn't work in Python 3.10\n",
    "print(\"{: }{: }\".format(58, -58))"
   ]
  },
  {
   "cell_type": "markdown",
   "metadata": {},
   "source": [
    "## Modifiers"
   ]
  },
  {
   "cell_type": "markdown",
   "metadata": {},
   "source": [
    "Defines the underscore as a thousands separator"
   ]
  },
  {
   "cell_type": "code",
   "execution_count": 45,
   "metadata": {},
   "outputs": [
    {
     "name": "stdout",
     "output_type": "stream",
     "text": [
      "123_456_789\n",
      "123,456,789\n",
      " 123456789\n",
      "123_456_789\n",
      "111_0101_1011_1100_1101_0001_0101\n",
      "7_2674_6425\n",
      "75b_cd15\n"
     ]
    }
   ],
   "source": [
    "print(\"{:_}\".format(123456789))\n",
    "print(\"{:,}\".format(123456789))\n",
    "print(\"{: }\".format(123456789))\n",
    "print(\"{:_d}\".format(123456789))\n",
    "print(\"{:_b}\".format(123456789))\n",
    "print(\"{:_o}\".format(123456789))\n",
    "print(\"{:_x}\".format(123456789))"
   ]
  },
  {
   "cell_type": "markdown",
   "metadata": {},
   "source": [
    "Defines precision."
   ]
  },
  {
   "cell_type": "code",
   "execution_count": 4,
   "metadata": {},
   "outputs": [
    {
     "name": "stdout",
     "output_type": "stream",
     "text": [
      "1.667\n",
      "1.67\n",
      "166.667%\n",
      "TES\n"
     ]
    }
   ],
   "source": [
    "print(\"{:.3f}\".format(5/3))\n",
    "print(\"{:.3g}\".format(5/3))\n",
    "print(\"{:.3%}\".format(5/3))\n",
    "\n",
    "# string formatting\n",
    "print(\"{:.3s}\".format(\"TEST\"))"
   ]
  },
  {
   "cell_type": "markdown",
   "metadata": {},
   "source": [
    "Type modifiers"
   ]
  },
  {
   "cell_type": "code",
   "execution_count": 21,
   "metadata": {},
   "outputs": [
    {
     "name": "stdout",
     "output_type": "stream",
     "text": [
      "1110000\n"
     ]
    }
   ],
   "source": [
    "# binary format\n",
    "print(\"{:b}\".format(112))"
   ]
  },
  {
   "cell_type": "code",
   "execution_count": 23,
   "metadata": {},
   "outputs": [
    {
     "name": "stdout",
     "output_type": "stream",
     "text": [
      "p\n"
     ]
    }
   ],
   "source": [
    "# character format\n",
    "print(\"{:c}\".format(112))"
   ]
  },
  {
   "cell_type": "code",
   "execution_count": null,
   "metadata": {},
   "outputs": [],
   "source": [
    "# integer format\n",
    "print(\"{:d}\".format(112))"
   ]
  },
  {
   "cell_type": "code",
   "execution_count": 26,
   "metadata": {},
   "outputs": [
    {
     "name": "stdout",
     "output_type": "stream",
     "text": [
      "1.120000e+02\n",
      "1.120000E+02\n"
     ]
    }
   ],
   "source": [
    "# scientific notation\n",
    "print(\"{:e}\".format(112))\n",
    "\n",
    "# scientific notation with uppercase\n",
    "print(\"{:E}\".format(112))"
   ]
  },
  {
   "cell_type": "code",
   "execution_count": 31,
   "metadata": {},
   "outputs": [
    {
     "name": "stdout",
     "output_type": "stream",
     "text": [
      "123.456000\n",
      "inf\n",
      "INF\n"
     ]
    }
   ],
   "source": [
    "# float format\n",
    "print(\"{:f}\".format(123.456))\n",
    "print(\"{:f}\".format(float('inf')))\n",
    "\n",
    "# float format with uppercase\n",
    "print(\"{:F}\".format(float('inf')))"
   ]
  },
  {
   "cell_type": "code",
   "execution_count": 24,
   "metadata": {},
   "outputs": [
    {
     "name": "stdout",
     "output_type": "stream",
     "text": [
      "123.456\n",
      "1.23457e+06\n",
      "123.456\n",
      "1.23457E+06\n"
     ]
    }
   ],
   "source": [
    "# general decimal format for smaller numbers\n",
    "print(\"{:g}\".format(123.456))\n",
    "\n",
    "# scientific notation for larger numbers\n",
    "print(\"{:g}\".format(1234567.890123))\n",
    "\n",
    "# general decimal format for smaller numbers with uppercase\n",
    "print(\"{:G}\".format(123.456))\n",
    "print(\"{:G}\".format(1234567.890123))"
   ]
  },
  {
   "cell_type": "code",
   "execution_count": 28,
   "metadata": {},
   "outputs": [
    {
     "name": "stdout",
     "output_type": "stream",
     "text": [
      "123.456\n"
     ]
    }
   ],
   "source": [
    "# number format\n",
    "print(\"{:n}\".format(123.456))"
   ]
  },
  {
   "cell_type": "code",
   "execution_count": 29,
   "metadata": {},
   "outputs": [
    {
     "name": "stdout",
     "output_type": "stream",
     "text": [
      "160\n"
     ]
    }
   ],
   "source": [
    "# octal format\n",
    "print(\"{:o}\".format(112))"
   ]
  },
  {
   "cell_type": "code",
   "execution_count": 30,
   "metadata": {},
   "outputs": [
    {
     "name": "stdout",
     "output_type": "stream",
     "text": [
      "70\n",
      "70\n"
     ]
    }
   ],
   "source": [
    "# hex format(lowercase)\n",
    "print(\"{:x}\".format(112))\n",
    "\n",
    "# hex format(uppercase)\n",
    "print(\"{:X}\".format(112))"
   ]
  }
 ],
 "metadata": {
  "kernelspec": {
   "display_name": "Python 3",
   "language": "python",
   "name": "python3"
  },
  "language_info": {
   "codemirror_mode": {
    "name": "ipython",
    "version": 3
   },
   "file_extension": ".py",
   "mimetype": "text/x-python",
   "name": "python",
   "nbconvert_exporter": "python",
   "pygments_lexer": "ipython3",
   "version": "3.10.6"
  },
  "orig_nbformat": 4
 },
 "nbformat": 4,
 "nbformat_minor": 2
}
