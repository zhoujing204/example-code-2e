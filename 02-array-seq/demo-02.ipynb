{
 "cells": [
  {
   "cell_type": "code",
   "execution_count": null,
   "metadata": {},
   "outputs": [],
   "source": [
    "# Create a large tuple\n",
    "large_tuple = tuple(range(1000000))\n",
    "\n",
    "# Create a large list\n",
    "large_list = list(range(1000000))"
   ]
  },
  {
   "cell_type": "code",
   "execution_count": null,
   "metadata": {},
   "outputs": [],
   "source": [
    "# Measure the time taken to create a copy using tuple()\n",
    "%timeit new_tuple = tuple(large_tuple)"
   ]
  },
  {
   "cell_type": "code",
   "execution_count": null,
   "metadata": {},
   "outputs": [],
   "source": [
    "# Measure the time taken to create a copy using list()\n",
    "%timeit new_list = list(large_list)"
   ]
  },
  {
   "cell_type": "code",
   "execution_count": 62,
   "metadata": {},
   "outputs": [
    {
     "name": "stdout",
     "output_type": "stream",
     "text": [
      "['__add__', '__class__', '__contains__', '__copy__', '__deepcopy__', '__delattr__', '__delitem__', '__dir__', '__doc__', '__eq__', '__format__', '__ge__', '__getattribute__', '__getitem__', '__gt__', '__hash__', '__iadd__', '__imul__', '__init__', '__init_subclass__', '__iter__', '__le__', '__len__', '__lt__', '__module__', '__mul__', '__ne__', '__new__', '__reduce__', '__reduce_ex__', '__repr__', '__rmul__', '__setattr__', '__setitem__', '__sizeof__', '__str__', '__subclasshook__', 'append', 'buffer_info', 'byteswap', 'count', 'extend', 'frombytes', 'fromfile', 'fromlist', 'fromunicode', 'index', 'insert', 'itemsize', 'pop', 'remove', 'reverse', 'tobytes', 'tofile', 'tolist', 'tounicode', 'typecode']\n",
      "i\n",
      "0x23b7196b650\n",
      "0x23b6cd505f0\n",
      "0x23b6cd50610\n",
      "0x23b6cd50630\n",
      "0x23b6cd50650\n",
      "0x23b6cd50670\n"
     ]
    }
   ],
   "source": [
    "import array\n",
    "\n",
    "# Create an integer array\n",
    "int_array = array.array('i', [1, 2, 3, 4, 5])\n",
    "\n",
    "char_array = array.array('B', [41, 42, 43, 44, 45])\n",
    "print(hex(id(char_array)))\n",
    "\n",
    "# Apply id() function to array items\n",
    "for item in char_array:\n",
    "    print(hex(id(item)))"
   ]
  },
  {
   "cell_type": "code",
   "execution_count": 33,
   "metadata": {},
   "outputs": [
    {
     "name": "stdout",
     "output_type": "stream",
     "text": [
      "0x23b7191c8c0\n",
      "0x23b718ca230\n",
      "0x23b6cf0a070\n",
      "0x23b7184bec0\n"
     ]
    }
   ],
   "source": [
    "int_tuple = (9.46, 'cat', [2.08, 4.29])\n",
    "\n",
    "print(hex(id(int_tuple)))\n",
    "\n",
    "for item in int_tuple:\n",
    "    print(hex(id(item)))"
   ]
  }
 ],
 "metadata": {
  "kernelspec": {
   "display_name": "Python 3",
   "language": "python",
   "name": "python3"
  },
  "language_info": {
   "codemirror_mode": {
    "name": "ipython",
    "version": 3
   },
   "file_extension": ".py",
   "mimetype": "text/x-python",
   "name": "python",
   "nbconvert_exporter": "python",
   "pygments_lexer": "ipython3",
   "version": "3.10.6"
  },
  "orig_nbformat": 4
 },
 "nbformat": 4,
 "nbformat_minor": 2
}
