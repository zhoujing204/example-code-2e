{
 "cells": [
  {
   "cell_type": "code",
   "execution_count": 5,
   "metadata": {},
   "outputs": [
    {
     "name": "stdout",
     "output_type": "stream",
     "text": [
      "LOAD_FAST a\n",
      "LOAD_FAST b\n",
      "BINARY_MULTIPLY \n",
      "RETURN_VALUE \n"
     ]
    }
   ],
   "source": [
    "import dis\n",
    "\n",
    "def multiply(a, b):\n",
    "    return a * b\n",
    "\n",
    "# Disassemble the bytecode of the multiply function\n",
    "bytecode = dis.Bytecode(multiply)\n",
    "\n",
    "# Print the bytecode instructions\n",
    "for instruction in bytecode:\n",
    "    print(instruction.opname, instruction.argrepr)\n"
   ]
  }
 ],
 "metadata": {
  "kernelspec": {
   "display_name": "Python 3",
   "language": "python",
   "name": "python3"
  },
  "language_info": {
   "codemirror_mode": {
    "name": "ipython",
    "version": 3
   },
   "file_extension": ".py",
   "mimetype": "text/x-python",
   "name": "python",
   "nbconvert_exporter": "python",
   "pygments_lexer": "ipython3",
   "version": "3.10.6"
  },
  "orig_nbformat": 4
 },
 "nbformat": 4,
 "nbformat_minor": 2
}
