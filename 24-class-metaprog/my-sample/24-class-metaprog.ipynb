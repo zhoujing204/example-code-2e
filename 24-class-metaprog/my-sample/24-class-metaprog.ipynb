{
 "cells": [
  {
   "cell_type": "markdown",
   "metadata": {},
   "source": [
    "# Chapter 24: Class Metaprogramming"
   ]
  },
  {
   "cell_type": "markdown",
   "metadata": {},
   "source": [
    "## Classes as Objects"
   ]
  },
  {
   "cell_type": "code",
   "execution_count": null,
   "metadata": {},
   "outputs": [],
   "source": []
  },
  {
   "cell_type": "markdown",
   "metadata": {},
   "source": [
    "## `type`: The Built-In Class Factory"
   ]
  },
  {
   "cell_type": "code",
   "execution_count": 5,
   "metadata": {},
   "outputs": [
    {
     "name": "stdout",
     "output_type": "stream",
     "text": [
      "42\n",
      "84\n"
     ]
    }
   ],
   "source": [
    "class MySuperClass:\n",
    "    pass\n",
    "\n",
    "class MyMixin:\n",
    "    pass\n",
    "\n",
    "class MyClass(MySuperClass, MyMixin):\n",
    "    x = 42\n",
    "    \n",
    "    def x2(self):\n",
    "        return self.x * 2\n",
    "    \n",
    "obj = MyClass()\n",
    "print(obj.x)\n",
    "print(obj.x2())"
   ]
  },
  {
   "cell_type": "code",
   "execution_count": 4,
   "metadata": {},
   "outputs": [
    {
     "name": "stdout",
     "output_type": "stream",
     "text": [
      "42\n",
      "84\n"
     ]
    }
   ],
   "source": [
    "MyClass2 = type('MyClass',\n",
    "                (MySuperClass, MyMixin),\n",
    "                {'x': 42, 'x2': lambda self:self.x*2},\n",
    "                )\n",
    "\n",
    "obj2 = MyClass2()\n",
    "print(obj2.x)\n",
    "print(obj2.x2())"
   ]
  },
  {
   "cell_type": "code",
   "execution_count": null,
   "metadata": {},
   "outputs": [],
   "source": [
    "monkey = {'name': 'Monkey', \n",
    "        'attrs': ['age', 'weight','food']}\n",
    "\n",
    "# How to create a Monkey class from this dict?\n",
    "# attributes should not have default values and they'll\n",
    "# be initialed in __init__ method.\n",
    "\n",
    "# Use a class factory function."
   ]
  },
  {
   "cell_type": "markdown",
   "metadata": {},
   "source": [
    "## A Class Factory Function"
   ]
  },
  {
   "cell_type": "code",
   "execution_count": 10,
   "metadata": {},
   "outputs": [],
   "source": [
    "# tag::RECORD_FACTORY[]\n",
    "from typing import Union, Any\n",
    "from collections.abc import Iterable, Iterator\n",
    "\n",
    "FieldNames = Union[str, Iterable[str]]  # <1>\n",
    "\n",
    "def record_factory(cls_name: str, field_names: FieldNames) -> type[tuple]:  # <2>\n",
    "\n",
    "    slots = parse_identifiers(field_names)  # <3>\n",
    "\n",
    "    def __init__(self, *args, **kwargs) -> None:  # <4>\n",
    "        attrs = dict(zip(self.__slots__, args))\n",
    "        attrs.update(kwargs)\n",
    "        for name, value in attrs.items():\n",
    "            setattr(self, name, value)\n",
    "\n",
    "    def __iter__(self) -> Iterator[Any]:  # <5>\n",
    "        for name in self.__slots__:\n",
    "            yield getattr(self, name)\n",
    "\n",
    "    def __repr__(self):  # <6>\n",
    "        values = ', '.join(f'{name}={value!r}'\n",
    "            for name, value in zip(self.__slots__, self))\n",
    "        cls_name = self.__class__.__name__\n",
    "        return f'{cls_name}({values})'\n",
    "\n",
    "    cls_attrs = dict(  # <7>\n",
    "        __slots__=slots,\n",
    "        __init__=__init__,\n",
    "        __iter__=__iter__,\n",
    "        __repr__=__repr__,\n",
    "    )\n",
    "\n",
    "    return type(cls_name, (object,), cls_attrs)  # <8>\n",
    "\n",
    "\n",
    "def parse_identifiers(names: FieldNames) -> tuple[str, ...]:\n",
    "    if isinstance(names, str):\n",
    "        names = names.replace(',', ' ').split()  # <9>\n",
    "    if not all(s.isidentifier() for s in names):\n",
    "        raise ValueError('names must all be valid identifiers')\n",
    "    return tuple(names)\n",
    "# end::RECORD_FACTORY[]"
   ]
  },
  {
   "cell_type": "code",
   "execution_count": 17,
   "metadata": {},
   "outputs": [
    {
     "data": {
      "text/plain": [
       "Dog(name='Rex', weight=30, owner='Bob')"
      ]
     },
     "execution_count": 17,
     "metadata": {},
     "output_type": "execute_result"
    }
   ],
   "source": [
    "Dog = record_factory('Dog', 'name weight owner')\n",
    "rex = Dog('Rex', 30, 'Bob')\n",
    "rex"
   ]
  },
  {
   "cell_type": "code",
   "execution_count": 18,
   "metadata": {},
   "outputs": [
    {
     "name": "stdout",
     "output_type": "stream",
     "text": [
      "Monkey(age=3, weight=30, food='banana')\n"
     ]
    }
   ],
   "source": [
    "monkey = {'name': 'Monkey', \n",
    "        'attrs': ['age', 'weight','food']}\n",
    "\n",
    "Monkey = record_factory(monkey['name'], monkey['attrs'])\n",
    "leo = Monkey(3, 30, 'banana')\n",
    "print(leo)"
   ]
  },
  {
   "cell_type": "markdown",
   "metadata": {},
   "source": [
    "## Introducing `__init__subclass__`"
   ]
  },
  {
   "cell_type": "code",
   "execution_count": null,
   "metadata": {},
   "outputs": [],
   "source": []
  },
  {
   "cell_type": "markdown",
   "metadata": {},
   "source": [
    "## Enhancing Classes with a Class Decorator"
   ]
  },
  {
   "cell_type": "markdown",
   "metadata": {},
   "source": [
    "A class decorator is a callable similarly to a function decorator: it gets the decorated class as an argument, and should return a class to replace the decorated class. Class decorators often return the decorated class itself, after injecting more methods in it via attribute assignment.\n",
    "\n",
    "The most common reason to choose a class decorator over the simpler `__init_subclass__` is to avoid interfering with other class features, such as inheritance and metaclasses."
   ]
  },
  {
   "cell_type": "markdown",
   "metadata": {},
   "source": [
    "## What Happens When: Import Time Versus Runtime"
   ]
  },
  {
   "cell_type": "markdown",
   "metadata": {},
   "source": [
    "At import time, the interpreter:\n",
    "\n",
    "1. Parses the source code of a .py module in one pass from top to bottom. This is when a `SyntaxError` may occur.\n",
    "2. Compiles the bytecode to be executed.\n",
    "3. Executes the top-level code of the compiled module.\n",
    "\n",
    "Although parsing and compiling are definitely \"import time\" activities, other things may happen at that time, because almost every statement in Python is executable in the sense that they can potentially run user code and may change the state of the user program.\n",
    "\n",
    "In particular, the `import` statement is not merely a declaration, but it actually runs all the top-level code of a module when it is imported for the first time in the process. Further imports of the same module will use a cache, and then the only effect will be binding the imported objects to names in the client module. That top-level code may do anything, including actions typical of \"runtime\", such as writing to a log or connecting to a database. That's why the border between \"import time\" and \"runtime\" is fuzzy: the `import` statement can trigger all sorts of \"runtime\" behavior. Conversely, \"import time\" can also happen deep inside runtime, because the `import` statement and the `__import__()` built-in can be used inside any regular function."
   ]
  },
  {
   "cell_type": "markdown",
   "metadata": {},
   "source": [
    "### Evaluation Time Experiments"
   ]
  },
  {
   "cell_type": "code",
   "execution_count": 1,
   "metadata": {},
   "outputs": [
    {
     "name": "stdout",
     "output_type": "stream",
     "text": [
      "@ builderlib module start\n",
      "@ Builder body\n",
      "@ Descriptor body\n",
      "@ builderlib module end\n"
     ]
    }
   ],
   "source": [
    "# Example 24-10 builderlib.py: top of the module\n",
    "\n",
    "print('@ builderlib module start')\n",
    "\n",
    "class Builder:\n",
    "    print('@ Builder body')\n",
    "    \n",
    "    def __init_subclass__(cls) -> None:\n",
    "        print(f'@ Builder.__init_subclass__({cls!r})')\n",
    "        \n",
    "        def inner_0(self):\n",
    "            print(f'@ SuperA.__init__subclass__:inner_0({self!r})')\n",
    "            \n",
    "        cls.method_a = inner_0\n",
    "            \n",
    "    def __init__(self) -> None:\n",
    "        super().__init__()\n",
    "        print(f'@ Builder.__init__({self!r})')\n",
    "        \n",
    "    def deco(cls):\n",
    "        print(f'@ deco({cls!r})')\n",
    "        \n",
    "        def inner_1(self):\n",
    "            print(f'@ deco:inner_1({self!r})')\n",
    "        \n",
    "        cls.method_b = inner_1\n",
    "        return cls\n",
    "\n",
    "# Example 24-11 builderlib.py: bottom of the module\n",
    "\n",
    "class Descriptor:\n",
    "    print('@ Descriptor body')\n",
    "    \n",
    "    def __init__(self) -> None:\n",
    "        print(f'@ Descriptor.__init__({self!r})')\n",
    "        \n",
    "    def __set_name__(self, owner, name):\n",
    "        args = (self, owner, name)\n",
    "        print(f'@ Descriptor.__set_name__({args!r})')\n",
    "        \n",
    "    def __set__(self, instance, value):\n",
    "        args = (self, instance, value)\n",
    "        print(f'@ Descriptor.__set__({args!r})')\n",
    "        \n",
    "    def __repr__(self) -> str:\n",
    "        return '<Descriptor instance>'\n",
    "    \n",
    "print('@ builderlib module end')"
   ]
  },
  {
   "cell_type": "code",
   "execution_count": null,
   "metadata": {},
   "outputs": [],
   "source": [
    "# Example 24-12. evaldemo.py: script to experiment with builderlib.py\n",
    "\n"
   ]
  }
 ],
 "metadata": {
  "kernelspec": {
   "display_name": "Python 3",
   "language": "python",
   "name": "python3"
  },
  "language_info": {
   "codemirror_mode": {
    "name": "ipython",
    "version": 3
   },
   "file_extension": ".py",
   "mimetype": "text/x-python",
   "name": "python",
   "nbconvert_exporter": "python",
   "pygments_lexer": "ipython3",
   "version": "3.10.6"
  }
 },
 "nbformat": 4,
 "nbformat_minor": 2
}
