{
 "cells": [
  {
   "cell_type": "markdown",
   "metadata": {},
   "source": [
    "# Chapter 24: Class Metaprogramming"
   ]
  },
  {
   "cell_type": "markdown",
   "metadata": {},
   "source": [
    "## Classes as Objects"
   ]
  },
  {
   "cell_type": "code",
   "execution_count": null,
   "metadata": {},
   "outputs": [],
   "source": []
  },
  {
   "cell_type": "markdown",
   "metadata": {},
   "source": [
    "## `type`: The Built-In Class Factory"
   ]
  },
  {
   "cell_type": "code",
   "execution_count": 5,
   "metadata": {},
   "outputs": [
    {
     "name": "stdout",
     "output_type": "stream",
     "text": [
      "42\n",
      "84\n"
     ]
    }
   ],
   "source": [
    "class MySuperClass:\n",
    "    pass\n",
    "\n",
    "class MyMixin:\n",
    "    pass\n",
    "\n",
    "class MyClass(MySuperClass, MyMixin):\n",
    "    x = 42\n",
    "    \n",
    "    def x2(self):\n",
    "        return self.x * 2\n",
    "    \n",
    "obj = MyClass()\n",
    "print(obj.x)\n",
    "print(obj.x2())"
   ]
  },
  {
   "cell_type": "code",
   "execution_count": 4,
   "metadata": {},
   "outputs": [
    {
     "name": "stdout",
     "output_type": "stream",
     "text": [
      "42\n",
      "84\n"
     ]
    }
   ],
   "source": [
    "MyClass2 = type('MyClass',\n",
    "                (MySuperClass, MyMixin),\n",
    "                {'x': 42, 'x2': lambda self:self.x*2},\n",
    "                )\n",
    "\n",
    "obj2 = MyClass2()\n",
    "print(obj2.x)\n",
    "print(obj2.x2())"
   ]
  },
  {
   "cell_type": "code",
   "execution_count": null,
   "metadata": {},
   "outputs": [],
   "source": [
    "monkey = {'name': 'Monkey', \n",
    "        'attrs': ['age', 'weight','food']}\n",
    "\n",
    "# How to create a Monkey class from this dict?\n",
    "# attributes should not have default values and they'll\n",
    "# be initialed in __init__ method.\n",
    "\n",
    "# Use a class factory function."
   ]
  },
  {
   "cell_type": "markdown",
   "metadata": {},
   "source": [
    "## A Class Factory Function"
   ]
  },
  {
   "cell_type": "code",
   "execution_count": 10,
   "metadata": {},
   "outputs": [],
   "source": [
    "# tag::RECORD_FACTORY[]\n",
    "from typing import Union, Any\n",
    "from collections.abc import Iterable, Iterator\n",
    "\n",
    "FieldNames = Union[str, Iterable[str]]  # <1>\n",
    "\n",
    "def record_factory(cls_name: str, field_names: FieldNames) -> type[tuple]:  # <2>\n",
    "\n",
    "    slots = parse_identifiers(field_names)  # <3>\n",
    "\n",
    "    def __init__(self, *args, **kwargs) -> None:  # <4>\n",
    "        attrs = dict(zip(self.__slots__, args))\n",
    "        attrs.update(kwargs)\n",
    "        for name, value in attrs.items():\n",
    "            setattr(self, name, value)\n",
    "\n",
    "    def __iter__(self) -> Iterator[Any]:  # <5>\n",
    "        for name in self.__slots__:\n",
    "            yield getattr(self, name)\n",
    "\n",
    "    def __repr__(self):  # <6>\n",
    "        values = ', '.join(f'{name}={value!r}'\n",
    "            for name, value in zip(self.__slots__, self))\n",
    "        cls_name = self.__class__.__name__\n",
    "        return f'{cls_name}({values})'\n",
    "\n",
    "    cls_attrs = dict(  # <7>\n",
    "        __slots__=slots,\n",
    "        __init__=__init__,\n",
    "        __iter__=__iter__,\n",
    "        __repr__=__repr__,\n",
    "    )\n",
    "\n",
    "    return type(cls_name, (object,), cls_attrs)  # <8>\n",
    "\n",
    "\n",
    "def parse_identifiers(names: FieldNames) -> tuple[str, ...]:\n",
    "    if isinstance(names, str):\n",
    "        names = names.replace(',', ' ').split()  # <9>\n",
    "    if not all(s.isidentifier() for s in names):\n",
    "        raise ValueError('names must all be valid identifiers')\n",
    "    return tuple(names)\n",
    "# end::RECORD_FACTORY[]"
   ]
  },
  {
   "cell_type": "code",
   "execution_count": 17,
   "metadata": {},
   "outputs": [
    {
     "data": {
      "text/plain": [
       "Dog(name='Rex', weight=30, owner='Bob')"
      ]
     },
     "execution_count": 17,
     "metadata": {},
     "output_type": "execute_result"
    }
   ],
   "source": [
    "Dog = record_factory('Dog', 'name weight owner')\n",
    "rex = Dog('Rex', 30, 'Bob')\n",
    "rex"
   ]
  },
  {
   "cell_type": "code",
   "execution_count": 18,
   "metadata": {},
   "outputs": [
    {
     "name": "stdout",
     "output_type": "stream",
     "text": [
      "Monkey(age=3, weight=30, food='banana')\n"
     ]
    }
   ],
   "source": [
    "monkey = {'name': 'Monkey', \n",
    "        'attrs': ['age', 'weight','food']}\n",
    "\n",
    "Monkey = record_factory(monkey['name'], monkey['attrs'])\n",
    "leo = Monkey(3, 30, 'banana')\n",
    "print(leo)"
   ]
  },
  {
   "cell_type": "markdown",
   "metadata": {},
   "source": [
    "## Introducing `__init__subclass__`"
   ]
  },
  {
   "cell_type": "code",
   "execution_count": null,
   "metadata": {},
   "outputs": [],
   "source": []
  },
  {
   "cell_type": "markdown",
   "metadata": {},
   "source": [
    "## Enhancing Classes with a Class Decorator"
   ]
  },
  {
   "cell_type": "markdown",
   "metadata": {},
   "source": [
    "A class decorator is a callable similarly to a function decorator: it gets the decorated class as an argument, and should return a class to replace the decorated class. Class decorators often return the decorated class itself, after injecting more methods in it via attribute assignment.\n",
    "\n",
    "The most common reason to choose a class decorator over the simpler `__init_subclass__` is to avoid interfering with other class features, such as inheritance and metaclasses."
   ]
  },
  {
   "cell_type": "markdown",
   "metadata": {},
   "source": [
    "## What Happens When: Import Time Versus Runtime"
   ]
  },
  {
   "cell_type": "markdown",
   "metadata": {},
   "source": [
    "At import time, the interpreter:\n",
    "\n",
    "1. Parses the source code of a .py module in one pass from top to bottom. This is when a `SyntaxError` may occur.\n",
    "2. Compiles the bytecode to be executed.\n",
    "3. Executes the top-level code of the compiled module.\n",
    "\n",
    "Although parsing and compiling are definitely \"import time\" activities, other things may happen at that time, because almost every statement in Python is executable in the sense that they can potentially run user code and may change the state of the user program.\n",
    "\n",
    "In particular, the `import` statement is not merely a declaration, but it actually runs all the top-level code of a module when it is imported for the first time in the process. Further imports of the same module will use a cache, and then the only effect will be binding the imported objects to names in the client module. That top-level code may do anything, including actions typical of \"runtime\", such as writing to a log or connecting to a database. That's why the border between \"import time\" and \"runtime\" is fuzzy: the `import` statement can trigger all sorts of \"runtime\" behavior. Conversely, \"import time\" can also happen deep inside runtime, because the `import` statement and the `__import__()` built-in can be used inside any regular function."
   ]
  },
  {
   "cell_type": "markdown",
   "metadata": {},
   "source": [
    "### Evaluation Time Experiments"
   ]
  },
  {
   "cell_type": "code",
   "execution_count": 1,
   "metadata": {},
   "outputs": [
    {
     "name": "stdout",
     "output_type": "stream",
     "text": [
      "@ builderlib module start\n",
      "@ Builder body\n",
      "@ Descriptor body\n",
      "@ builderlib module end\n"
     ]
    }
   ],
   "source": [
    "# Example 24-10 builderlib.py: top of the module\n",
    "\n",
    "print('@ builderlib module start')\n",
    "\n",
    "class Builder:\n",
    "    print('@ Builder body')\n",
    "    \n",
    "    def __init_subclass__(cls) -> None:\n",
    "        print(f'@ Builder.__init_subclass__({cls!r})')\n",
    "        \n",
    "        def inner_0(self):\n",
    "            print(f'@ SuperA.__init__subclass__:inner_0({self!r})')\n",
    "            \n",
    "        cls.method_a = inner_0\n",
    "            \n",
    "    def __init__(self) -> None:\n",
    "        super().__init__()\n",
    "        print(f'@ Builder.__init__({self!r})')\n",
    "        \n",
    "def deco(cls):\n",
    "    print(f'@ deco({cls!r})')\n",
    "    \n",
    "    def inner_1(self):\n",
    "        print(f'@ deco:inner_1({self!r})')\n",
    "    \n",
    "    cls.method_b = inner_1\n",
    "    return cls\n",
    "\n",
    "# Example 24-11 builderlib.py: bottom of the module\n",
    "\n",
    "class Descriptor:\n",
    "    print('@ Descriptor body')\n",
    "    \n",
    "    def __init__(self) -> None:\n",
    "        print(f'@ Descriptor.__init__({self!r})')\n",
    "        \n",
    "    def __set_name__(self, owner, name):\n",
    "        args = (self, owner, name)\n",
    "        print(f'@ Descriptor.__set_name__({args!r})')\n",
    "        \n",
    "    def __set__(self, instance, value):\n",
    "        args = (self, instance, value)\n",
    "        print(f'@ Descriptor.__set__({args!r})')\n",
    "        \n",
    "    def __repr__(self) -> str:\n",
    "        return '<Descriptor instance>'\n",
    "    \n",
    "print('@ builderlib module end')"
   ]
  },
  {
   "cell_type": "markdown",
   "metadata": {},
   "source": [
    "1. class body print statement are executed at import time\n",
    "2. def body print statements are not called."
   ]
  },
  {
   "cell_type": "code",
   "execution_count": null,
   "metadata": {},
   "outputs": [],
   "source": [
    "# Example 24-12. evaldemo.py: script to experiment with builderlib.py\n",
    "\n",
    "print('# evaldemo module start')\n",
    "\n",
    "@deco  # <1>\n",
    "class Klass(Builder):  # <2>\n",
    "    print('# Klass body')\n",
    "\n",
    "    attr = Descriptor()  # <3>\n",
    "\n",
    "    def __init__(self):\n",
    "        super().__init__()\n",
    "        print(f'# Klass.__init__({self!r})')\n",
    "\n",
    "    def __repr__(self):\n",
    "        return '<Klass instance>'\n",
    "\n",
    "\n",
    "def main():  # <4>\n",
    "    obj = Klass()\n",
    "    obj.method_a()\n",
    "    obj.method_b()\n",
    "    obj.attr = 999\n",
    "\n",
    "if __name__ == '__main__':\n",
    "    main()\n",
    "\n",
    "print('# evaldemo module end')"
   ]
  },
  {
   "cell_type": "markdown",
   "metadata": {},
   "source": [
    "Example 24-13. import `evaldemo.py` at the Python prompt(You can't reproduce this in the jupyter notebook)\n",
    "\n",
    "```python\n",
    ">>> import evaldemo\n",
    "@ builderlib module start  # 1\n",
    "@ Builder body\n",
    "@ Descriptor body\n",
    "@ builderlib module end\n",
    "# evaldemo module start\n",
    "# Klass body  # 2\n",
    "@ Descriptor.__init__(<Descriptor instance>) # 3\n",
    "@ Descriptor.__set_name__(<Descriptor instance>,\n",
    "    <class 'evaldemo.Klass'>, 'attr')  # 4\n",
    "@ Builder.__init_subclass__(<class 'evaldemo.Klass'>) # 5\n",
    "@ deco(<class 'evaldemo.Klass'>) # 6\n",
    "# evaldemo module end\n",
    "```"
   ]
  },
  {
   "cell_type": "markdown",
   "metadata": {},
   "source": [
    "1. The top four lines are the result of from `builderlib` import... . They will not appear if you didn't close the console after the first import, because the `builderlib` is already loaded.\n",
    "\n",
    "2. This signal that Python started reading the body of `Klass`. At this point, the class object does not exist yet.\n",
    "\n",
    "3. The descriptor instance is created and bound to `attr` in the namespace that Python will pass to the default class object constructor: `type.__new__()`.\n",
    "\n",
    "4. At this point, Python's built-in `type.__new__()` has created the `Klass` object and calls `__set_name__` on each descriptor instance of descriptor classes that provide that method, passing `Klass` as the `owner` argument.\n",
    "\n",
    "5. `type.__new__` then calls `__init_subclass__` on `Builder`, passing `Klass` as the single argument.\n",
    "\n",
    "6. When `type.__new__` returns the class object, Python applies the decorator `deco` to it. In this example, the class returned by `deco` is bound to `Klass` in the module namespace."
   ]
  },
  {
   "cell_type": "markdown",
   "metadata": {},
   "source": [
    "Example 24-14. Running `evaldemo.py` as a program(You can't reproduce this in the jupyter notebook)\n",
    "\n",
    "```python\n",
    "@ builderlib module start\n",
    "@ Builder body\n",
    "@ Descriptor body\n",
    "@ builderlib module end\n",
    "# evaldemo module start\n",
    "# Klass body\n",
    "@ Descriptor.__init__(<Descriptor instance>)\n",
    "@ Descriptor.__set_name__(<Descriptor instance>, <class '__main__.Klass'>, 'attr')\n",
    "@ Builder.__init_subclass__(<class '__main__.Klass'>) \n",
    "@ deco(<class '__main__.Klass'>) # 1\n",
    "@ Builder.__init__(<Klass instance>) # 2\n",
    "# Klass.__init__(<Klass instance>)\n",
    "@ SuperA.__init_subclass__:inner_0(<Klass instance>)  # 3\n",
    "@ deco:inner_1(<Klass instance>) # 4\n",
    "@ Descriptor.__set__(<Descriptor instance>, <Klass instance>, 999) # 5\n",
    "# evaldemo module end\n",
    "```"
   ]
  },
  {
   "cell_type": "markdown",
   "metadata": {},
   "source": [
    "1. The top 10 lines--including this one--are the same as shown in Example 24-13.\n",
    "\n",
    "2. Triggered by `super().__init__()` in `Klass.__init__()`.\n",
    "\n",
    "3. Triggered by `obj.method_a()` in `main`; `method_a` was injected by `SuperA.__init_subclass__`.\n",
    "\n",
    "4. Triggered by `obj.method_b()` in `main`; `method_b` was injected by `deco`.\n",
    "\n",
    "5. Triggered by `obj.attr = 999` in `main`; `attr` value was set by `Descriptor.__set__`."
   ]
  },
  {
   "cell_type": "markdown",
   "metadata": {},
   "source": [
    "## Metaclasses 101"
   ]
  },
  {
   "cell_type": "markdown",
   "metadata": {},
   "source": [
    "> [Metaclasses] are deeper magic than 99% of users should ever worry about. If you wonder whether you need them, you don't (the people who actually need them know with certainty that they need them, and don't need an explanation about why).\n",
    "> \n",
    "> -- Tim Peters, inventor of the Timsort algorithm, and author of the Zen of Python"
   ]
  },
  {
   "cell_type": "markdown",
   "metadata": {},
   "source": [
    "![Both diagrams are true](./img/2024-01-05-12-02-49.png)"
   ]
  },
  {
   "cell_type": "markdown",
   "metadata": {},
   "source": [
    "### How a Metaclass Customizes a Class"
   ]
  },
  {
   "cell_type": "markdown",
   "metadata": {},
   "source": [
    "To use a metaclass, it's critical to understand how `__new__` works on any class.\n",
    "\n",
    "The same mechanics happen at a \"meta\" level when a metaclass is about to create a new instance, which is a class. Consider this declaration:\n",
    "\n",
    "```python\n",
    "class Klass(SuperKlass, metaclass=MetaKlass):\n",
    "    x = 42\n",
    "    def __init__(self, y) -> None:\n",
    "        self.y = y\n",
    "```"
   ]
  },
  {
   "cell_type": "markdown",
   "metadata": {},
   "source": [
    "To process that `class` statement, Python calls `MetaKlass__new__` with these arguments:\n",
    "\n",
    "- `meta_cls`: The metaclass itself(MetaKlass), because `__new__` works as class method.\n",
    "\n",
    "- `cls_name`: The string `Klass`.\n",
    "\n",
    "- `base`: The single-element tuple `(SuperKlass,)`, with more elements in the case of multiple inheritance.\n",
    "\n",
    "- `cls_dict`: A mapping like: `{x: 42, __init__: <function __init__ at 0x7f9e9c2b9d30>}`\n",
    "\n",
    "\n",
    "When you implement `MetaKlass.__new__`, you can inspect and change those arguments before passing them to `super().__new__`, which will eventually call `type.__new__` to create the new class object."
   ]
  },
  {
   "cell_type": "markdown",
   "metadata": {},
   "source": [
    "After `super().__new__` returns, you can also apply further processing to the newly created class before returning it to Python. Python then calls `SuperKlass.__init_subclass__`, passing the class you created, and then applies a class decorator to it, if one is present. Finally, Python binds the class object to its name in the surrounding namespace--usually the global namespace of a module, if the `class` statement was a top-level statement.\n",
    "\n",
    "What does top-level statement mean?\n",
    "\n",
    "top-level statement: A statement that is not nested inside any other statement. For example, a `class` statement is a top-level statement, but a `def` statement nested inside a `class` statement is not."
   ]
  },
  {
   "cell_type": "markdown",
   "metadata": {},
   "source": [
    "The most common processing made in a metaclass `__new__` is to add or replace items in the `cls_dict`--the mapping that represents the namespace of the class under construction. For instance, before calling `super().__new__`, you can inject methods in the class under construction by adding functions to `cls_dict`. However, note that adding methods can also be done after the class is built, which is why we were able to do it using `__init_subclass__` or a class decorator.\n",
    "\n",
    "One attribute that you must add to the `cls_dict` before `type.__new__` runs is `__slots__`, as discussed in page 921. The `__new__` method of a metaclass is the ideal place to configure `__slots__`. The next section shows how to do that."
   ]
  },
  {
   "cell_type": "markdown",
   "metadata": {},
   "source": [
    "### A Nice Metaclass Example"
   ]
  },
  {
   "cell_type": "markdown",
   "metadata": {},
   "source": [
    "Example 24-15. metabunch/from3.6/bunch.py: MetaBunch metaclass and Bunch class"
   ]
  },
  {
   "cell_type": "code",
   "execution_count": null,
   "metadata": {},
   "outputs": [],
   "source": [
    "class MetaBunch(type):  # <1>\n",
    "    def __new__(meta_cls, cls_name, bases, cls_dict):  # <2>\n",
    "\n",
    "        defaults = {}  # <3>\n",
    "\n",
    "        def __init__(self, **kwargs):  # <4>\n",
    "            for name, default in defaults.items():  # <5>\n",
    "                setattr(self, name, kwargs.pop(name, default))\n",
    "            if kwargs:  # <6>\n",
    "                extra = ', '.join(kwargs)\n",
    "                raise AttributeError(f'No slots left for: {extra!r}')\n",
    "\n",
    "        def __repr__(self):  # <7>\n",
    "            rep = ', '.join(f'{name}={value!r}'\n",
    "                            for name, default in defaults.items()\n",
    "                            if (value := getattr(self, name)) != default)\n",
    "            return f'{cls_name}({rep})'\n",
    "\n",
    "        new_dict = dict(__slots__=[], __init__=__init__, __repr__=__repr__)  # <8>\n",
    "\n",
    "        for name, value in cls_dict.items():  # <9>\n",
    "            if name.startswith('__') and name.endswith('__'):  # <10>\n",
    "                if name in new_dict:\n",
    "                    raise AttributeError(f\"Can't set {name!r} in {cls_name!r}\")\n",
    "                new_dict[name] = value\n",
    "            else:  # <11>\n",
    "                new_dict['__slots__'].append(name)\n",
    "                defaults[name] = value\n",
    "        return super().__new__(meta_cls, cls_name, bases, new_dict)  # <12>\n",
    "\n",
    "\n",
    "class Bunch(metaclass=MetaBunch):  # <13>\n",
    "    pass"
   ]
  },
  {
   "cell_type": "markdown",
   "metadata": {},
   "source": [
    "1. To create a new metaclass, inherit from `type`.\n",
    "\n",
    "2. `__new__` works as a class method, but the class is a metaclass, so I like to name the first argument `meta_cls` to make it clear that it's a class object, not an instance. The remaining three arguments are the same as the three-argument signature of `type.__new__`.\n",
    "\n",
    "3. `defaults` will hold a mapping of attribute names and their default values.\n",
    "\n",
    "4. This will be injected into the new class.\n",
    "\n",
    "5. Read the `defaults` and set the corresponding instance attribute with a value popped from `kwargs` or a default value.\n",
    "\n",
    "6. If there is still any item in `kwargs`, it means there are no slots left where we can place them. We believe in `failing fast` as best practice, so we don't want to silently ignore extra items. A quick and effective solution is to pop one item from `kwargs` and try to set it on the instance, triggering an `AttributeError` on purpose.\n",
    "\n",
    "7. `__repr__` returns a string that looks like a constructor call--e.g., `Point(x=3)`, omitting the keyword arguments with default values.\n",
    "\n",
    "8. Initialize namespace for the new class.\n",
    "\n",
    "9. Iterate namespace for the new class.\n",
    "\n",
    "10. If a dunder `name` is found, copy the item to the new class namespace, unless it's already there. This prevents users from overwriting `__init__`, `__repr__`, and other attributes set by Python, such as `__qualname__` and `__module__`.\n",
    "\n",
    "11. If not a dunder `name`, append to `__slots__` and save its `value` in `defaults`.\n",
    "\n",
    "12. Build and return the new class.\n",
    "\n",
    "13. Provide a base class, so users don't need to see `MetaBunch`.\n",
    "\n",
    "`MetaBunch` works because it is able to configure `__slots__` before calling `super().__new__` to build the final class. (Who is super here, `type` or `MetaBunch`?) As usual when metaprogramming, understanding the sequence of actions is key. Let's do another evaluation time experiment, now with a metaclass."
   ]
  },
  {
   "cell_type": "markdown",
   "metadata": {},
   "source": [
    "### Metaclass Evaluation Time Experiment"
   ]
  },
  {
   "cell_type": "markdown",
   "metadata": {},
   "source": [
    "`method_c` was injected by `MetaKlass.__new__` after decorating `Klass` with `deco`."
   ]
  },
  {
   "cell_type": "markdown",
   "metadata": {},
   "source": [
    "## Metaclass in the Real World"
   ]
  },
  {
   "cell_type": "markdown",
   "metadata": {},
   "source": [
    "Metaclasses are powerful, but tricky. Before deciding to implement a metaclass, consider the following point."
   ]
  },
  {
   "cell_type": "markdown",
   "metadata": {},
   "source": [
    "### Modern Features Simplify or Replace Metaclasses"
   ]
  },
  {
   "cell_type": "markdown",
   "metadata": {},
   "source": [
    "Over time, several common use cases of metaclasses were made redundant by new language features:\n",
    "\n",
    "- Class decorator:\n",
    "  - Simpler to understand that metaclasses, and less likely to cause conflicts with base classes and metaclasses.\n",
    "\n",
    "- `__set_name__`:\n",
    "  - Avoids the need for custom metaclass logic to automatically set the name of a descriptor.\n",
    "\n",
    "- `__init_subclass__`:\n",
    "  - Provides a way to customize creation that is transparent to the end user and even simpler than a decorator--but may introduce conflicts in a complex class hierarchy.\n",
    "\n",
    "- Built-in `dict` preserving key insertion order:\n",
    "  - Eliminated the #1 reason to use `__prepare__`: to provide an `OrderedDict` to store the namespace of the class under construction. Python only calls `__prepare__` on metaclasses, so if you needed to process the class namespace in the order it appears in the source code, you had to use a metaclass before Python 3.6."
   ]
  },
  {
   "cell_type": "markdown",
   "metadata": {},
   "source": [
    "### Metaclasses Are Stable Language Features"
   ]
  },
  {
   "cell_type": "markdown",
   "metadata": {},
   "source": [
    "Metaclasses were introduced in Python 2.2 in 2002, together with so-called \"new-style classes\", descriptors, and properties.\n",
    "\n",
    "It is remarkable that the `MetaBunch` example, first posted in July 2002, still works in Python 3.9."
   ]
  },
  {
   "cell_type": "markdown",
   "metadata": {},
   "source": [
    "### A Class Can Only Have One Metaclass"
   ]
  },
  {
   "cell_type": "markdown",
   "metadata": {},
   "source": [
    "If your class declaration involves two or more metaclasses, you will see this puzzling error message:\n",
    "\n",
    "> TypeError: metaclass conflict: the metaclass of a derived class must be a (non-strict) subclass of the metaclasses of all its bases.\n",
    "\n",
    "This may happen even without multiple inheritance. For example, a declaration like this could trigger that `TypeError`:\n",
    "\n",
    "```python\n",
    "class Record(abc.ABC, metaclass=PersistentMeta):\n",
    "    pass\n",
    "```\n",
    "\n",
    "We saw that `abc.ABC` is an instance of the `abc.ABCMeta` metaclass. If that `Persistent` metaclass is not itself a subclass of `abc.ABCMeta`, the `TypeError` will be raised.\n",
    "\n",
    "There are two ways of dealing with that error:\n",
    "\n",
    "- Find some other way of doing what you need to do, while avoiding at least one of the metaclasses involved.\n",
    "\n",
    "- Write your own `PersistentABCMeta` metaclass as a subclass of both `abc.ABCMeta` and `PersistentMeta`, using multiple inheritance, and use that as the only metaclass of `Record`."
   ]
  },
  {
   "cell_type": "markdown",
   "metadata": {},
   "source": [
    "### Metaclasses Should Be Implementation Details"
   ]
  },
  {
   "cell_type": "markdown",
   "metadata": {},
   "source": [
    "Beside `type`, there are only six metaclasses in the entire Python 3.9 standard library. The better known metaclasses are probably `abc.ABCMeta`, `typing.NamedTupleMeta` and `enum.EnumMeta`. None of them are intended to appear explicitly in user code. We may consider them implementation details."
   ]
  }
 ],
 "metadata": {
  "kernelspec": {
   "display_name": "Python 3",
   "language": "python",
   "name": "python3"
  },
  "language_info": {
   "codemirror_mode": {
    "name": "ipython",
    "version": 3
   },
   "file_extension": ".py",
   "mimetype": "text/x-python",
   "name": "python",
   "nbconvert_exporter": "python",
   "pygments_lexer": "ipython3",
   "version": "3.10.6"
  }
 },
 "nbformat": 4,
 "nbformat_minor": 2
}
