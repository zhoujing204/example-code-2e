{
 "cells": [
  {
   "cell_type": "markdown",
   "metadata": {},
   "source": [
    "# 14 Inheritance"
   ]
  },
  {
   "cell_type": "markdown",
   "metadata": {},
   "source": [
    "![Multiple Inheritance](./img/2023-10-05-18-39-23.png)"
   ]
  },
  {
   "cell_type": "code",
   "execution_count": 1,
   "metadata": {},
   "outputs": [
    {
     "name": "stdout",
     "output_type": "stream",
     "text": [
      "<instance of Leaf>.ping() in Leaf\n",
      "<instance of Leaf>.ping() in A\n",
      "<instance of Leaf>.ping() in B\n",
      "<instance of Leaf>.ping() in Root\n"
     ]
    }
   ],
   "source": [
    "from diamond import Root, A, B, Leaf\n",
    "\n",
    "leaf = Leaf()\n",
    "leaf.ping()"
   ]
  },
  {
   "cell_type": "code",
   "execution_count": 2,
   "metadata": {},
   "outputs": [
    {
     "name": "stdout",
     "output_type": "stream",
     "text": [
      "<instance of Leaf>.pong() in A\n",
      "<instance of Leaf>.pong() in B\n"
     ]
    }
   ],
   "source": [
    "leaf.pong()"
   ]
  },
  {
   "cell_type": "code",
   "execution_count": 4,
   "metadata": {},
   "outputs": [
    {
     "data": {
      "text/plain": [
       "(diamond.Leaf, diamond.A, diamond.B, diamond.Root, object)"
      ]
     },
     "execution_count": 4,
     "metadata": {},
     "output_type": "execute_result"
    }
   ],
   "source": [
    "Leaf.__mro__"
   ]
  },
  {
   "cell_type": "code",
   "execution_count": 8,
   "metadata": {},
   "outputs": [
    {
     "name": "stdout",
     "output_type": "stream",
     "text": [
      "<diamond2.U object at 0x0000025237190B80>.ping() in U\n"
     ]
    },
    {
     "ename": "AttributeError",
     "evalue": "'super' object has no attribute 'ping'",
     "output_type": "error",
     "traceback": [
      "\u001b[1;31m---------------------------------------------------------------------------\u001b[0m",
      "\u001b[1;31mAttributeError\u001b[0m                            Traceback (most recent call last)",
      "\u001b[1;32md:\\workspace\\example-code-2e\\14-inheritance\\my-sample\\14-inheritance.ipynb Cell 6\u001b[0m line \u001b[0;36m4\n\u001b[0;32m      <a href='vscode-notebook-cell:/d%3A/workspace/example-code-2e/14-inheritance/my-sample/14-inheritance.ipynb#W5sZmlsZQ%3D%3D?line=0'>1</a>\u001b[0m \u001b[39mfrom\u001b[39;00m \u001b[39mdiamond2\u001b[39;00m \u001b[39mimport\u001b[39;00m U, LeafAU, LeafUA\n\u001b[0;32m      <a href='vscode-notebook-cell:/d%3A/workspace/example-code-2e/14-inheritance/my-sample/14-inheritance.ipynb#W5sZmlsZQ%3D%3D?line=2'>3</a>\u001b[0m u \u001b[39m=\u001b[39m U()\n\u001b[1;32m----> <a href='vscode-notebook-cell:/d%3A/workspace/example-code-2e/14-inheritance/my-sample/14-inheritance.ipynb#W5sZmlsZQ%3D%3D?line=3'>4</a>\u001b[0m u\u001b[39m.\u001b[39;49mping()\n",
      "File \u001b[1;32md:\\workspace\\example-code-2e\\14-inheritance\\my-sample\\diamond2.py:7\u001b[0m, in \u001b[0;36mU.ping\u001b[1;34m(self)\u001b[0m\n\u001b[0;32m      5\u001b[0m \u001b[39mdef\u001b[39;00m \u001b[39mping\u001b[39m(\u001b[39mself\u001b[39m):\n\u001b[0;32m      6\u001b[0m     \u001b[39mprint\u001b[39m(\u001b[39mf\u001b[39m\u001b[39m'\u001b[39m\u001b[39m{\u001b[39;00m\u001b[39mself\u001b[39m\u001b[39m}\u001b[39;00m\u001b[39m.ping() in U\u001b[39m\u001b[39m'\u001b[39m)\n\u001b[1;32m----> 7\u001b[0m     \u001b[39msuper\u001b[39;49m()\u001b[39m.\u001b[39;49mping()\n",
      "\u001b[1;31mAttributeError\u001b[0m: 'super' object has no attribute 'ping'"
     ]
    }
   ],
   "source": [
    "from diamond2 import U, LeafAU, LeafUA\n",
    "\n",
    "u = U()\n",
    "u.ping()"
   ]
  },
  {
   "cell_type": "code",
   "execution_count": 6,
   "metadata": {},
   "outputs": [
    {
     "name": "stdout",
     "output_type": "stream",
     "text": [
      "<instance of LeafAU>.ping() in LeafAU\n",
      "<instance of LeafAU>.ping() in A\n",
      "<instance of LeafAU>.ping() in Root\n"
     ]
    }
   ],
   "source": [
    "leaf_au = LeafAU()\n",
    "leaf_au.ping()"
   ]
  },
  {
   "cell_type": "code",
   "execution_count": 7,
   "metadata": {},
   "outputs": [
    {
     "data": {
      "text/plain": [
       "(diamond2.LeafAU, diamond.A, diamond.Root, diamond2.U, object)"
      ]
     },
     "execution_count": 7,
     "metadata": {},
     "output_type": "execute_result"
    }
   ],
   "source": [
    "LeafAU.__mro__"
   ]
  },
  {
   "cell_type": "code",
   "execution_count": 9,
   "metadata": {},
   "outputs": [
    {
     "data": {
      "text/plain": [
       "(diamond2.LeafUA, diamond2.U, diamond.A, diamond.Root, object)"
      ]
     },
     "execution_count": 9,
     "metadata": {},
     "output_type": "execute_result"
    }
   ],
   "source": [
    "LeafUA.__mro__"
   ]
  },
  {
   "cell_type": "code",
   "execution_count": 10,
   "metadata": {},
   "outputs": [
    {
     "name": "stdout",
     "output_type": "stream",
     "text": [
      "<instance of LeafUA>.ping() in LeafUA\n",
      "<instance of LeafUA>.ping() in U\n",
      "<instance of LeafUA>.ping() in A\n",
      "<instance of LeafUA>.ping() in Root\n"
     ]
    }
   ],
   "source": [
    "leaf_ua = LeafUA()\n",
    "leaf_ua.ping()"
   ]
  },
  {
   "cell_type": "code",
   "execution_count": 11,
   "metadata": {},
   "outputs": [
    {
     "data": {
      "text/plain": [
       "KeysView({'A': 'letter A', 2: 'digit two'})"
      ]
     },
     "execution_count": 11,
     "metadata": {},
     "output_type": "execute_result"
    }
   ],
   "source": [
    "from uppermixin import UpperCaseMixin, _upper, UpperCounter, UpperDict\n",
    "\n",
    "d = UpperDict([('a', 'letter A'), (2, 'digit two')])\n",
    "d.keys()"
   ]
  },
  {
   "cell_type": "code",
   "execution_count": 12,
   "metadata": {},
   "outputs": [
    {
     "data": {
      "text/plain": [
       "['A', 2, 'B']"
      ]
     },
     "execution_count": 12,
     "metadata": {},
     "output_type": "execute_result"
    }
   ],
   "source": [
    "d['b'] = 'letter B'\n",
    "list(d.keys())"
   ]
  },
  {
   "cell_type": "code",
   "execution_count": 13,
   "metadata": {},
   "outputs": [
    {
     "data": {
      "text/plain": [
       "[('A', 3), ('N', 2), ('B', 1)]"
      ]
     },
     "execution_count": 13,
     "metadata": {},
     "output_type": "execute_result"
    }
   ],
   "source": [
    "c = UpperCounter('BaNanA')\n",
    "c.most_common()"
   ]
  }
 ],
 "metadata": {
  "kernelspec": {
   "display_name": "Python 3",
   "language": "python",
   "name": "python3"
  },
  "language_info": {
   "codemirror_mode": {
    "name": "ipython",
    "version": 3
   },
   "file_extension": ".py",
   "mimetype": "text/x-python",
   "name": "python",
   "nbconvert_exporter": "python",
   "pygments_lexer": "ipython3",
   "version": "3.10.6"
  }
 },
 "nbformat": 4,
 "nbformat_minor": 2
}
